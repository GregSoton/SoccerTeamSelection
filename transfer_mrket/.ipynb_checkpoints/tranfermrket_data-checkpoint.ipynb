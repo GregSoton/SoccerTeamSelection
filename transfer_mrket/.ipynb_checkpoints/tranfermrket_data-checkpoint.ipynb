{
 "cells": [
  {
   "cell_type": "markdown",
   "id": "0678d20c-d3b2-484c-acf7-840fa9ef8392",
   "metadata": {},
   "source": [
    "# Retrieve Transfermrket Data"
   ]
  },
  {
   "cell_type": "markdown",
   "id": "05f80980-7eb3-4840-b9a7-39901a3c195a",
   "metadata": {},
   "source": [
    "##### Uses code adapted from the github repository: https://github.com/FCrSTATS/tyrone_mings. These adapted code files will be made available when our code is made public."
   ]
  },
  {
   "cell_type": "code",
   "execution_count": null,
   "id": "1829310c-7382-4f44-9b01-ad8f70df51ae",
   "metadata": {},
   "outputs": [],
   "source": [
    "import players as p\n",
    "import os\n",
    "import pandas as pd\n",
    "from tqdm import tqdm\n",
    "import time\n",
    "import datetime\n",
    "os.chdir(\"..\")\n",
    "player_page = \"https://www.transfermarkt.com/tyrone-mings/profil/spieler/\""
   ]
  },
  {
   "cell_type": "code",
   "execution_count": null,
   "id": "d0dd53f9-c7e9-44b1-b80b-30d3a2dcbd71",
   "metadata": {},
   "outputs": [],
   "source": [
    "players_df = pd.read_csv('overview_data/all_players.csv')\n",
    "games_df = pd.read_csv('overview_data/games_data.csv')\n",
    "player_tm_ids = players_df['tm_id']\n",
    "injuries_df = pd.DataFrame()"
   ]
  },
  {
   "cell_type": "code",
   "execution_count": null,
   "id": "b912d478-4778-4b07-bb48-d1f826f0cf1d",
   "metadata": {},
   "outputs": [],
   "source": [
    "for pid in tqdm(player_tm_ids):\n",
    "    output_dict = p.tm_pull(player_page, pid, injury_history = True, output = 'pandas')\n",
    "    (output_dict['injury_history'])['tm_id'] = pid\n",
    "    (output_dict['injury_history'])['sb_id'] = players_df[players_df['tm_id']==pid]['player_id'].values[0]\n",
    "    injuries_df = pd.concat([injuries_df,output_dict['injury_history']],axis=0)\n",
    "    \n",
    "injury_df = pd.read_csv('injury_data/all_player_injuries.csv')\n",
    "injury_df = injury_df.reset_index(drop=True)"
   ]
  },
  {
   "cell_type": "code",
   "execution_count": null,
   "id": "f3a5ee71-da77-4b66-975f-91b29b3fd279",
   "metadata": {},
   "outputs": [],
   "source": [
    "import re\n",
    "for i, row in injury_df.iterrows():\n",
    "    if re.search(\"^[a-zA-Z]\", injury_df.loc[i,'from']) is not None:\n",
    "        injury_df.loc[i,'from'] = datetime.datetime.strptime(injury_df.loc[i,'from'], '%b %d, %Y').strftime('%Y-%m-%d')\n",
    "    if re.search(\"^[a-zA-Z]\", injury_df.loc[i,'until']) is not None:\n",
    "        injury_df.loc[i,'until'] = datetime.datetime.strptime(injury_df.loc[i,'until'], '%b %d, %Y').strftime('%Y-%m-%d')\n",
    "    injury_df = injury_df[injury_df['from'] != '0']\n",
    "    injury_df = injury_df[injury_df['until'] != '0']\n",
    "    injury_df = injury_df[injury_df['Days'] != '? days']"
   ]
  },
  {
   "cell_type": "code",
   "execution_count": null,
   "id": "6fbe268a-3699-4f02-a5e1-daf58ba9e434",
   "metadata": {},
   "outputs": [],
   "source": [
    "#injury_df.to_csv('injury_data/all_player_injuries.csv',index=False)"
   ]
  },
  {
   "cell_type": "markdown",
   "id": "b08ee1b6-43b1-4a00-b71a-5a48ab03c508",
   "metadata": {},
   "source": [
    "## Player Details"
   ]
  },
  {
   "cell_type": "code",
   "execution_count": null,
   "id": "81481302-9449-4870-8d80-024b4fb97703",
   "metadata": {},
   "outputs": [],
   "source": [
    "for pid in tqdm(player_tm_ids):\n",
    "    output_dict = p.tm_pull(player_page, pid, injury_history = True, output = 'pandas')\n",
    "    (output_dict['injury_history'])['tm_id'] = pid\n",
    "    (output_dict['injury_history'])['sb_id'] = players_df[players_df['tm_id']==pid]['player_id'].values[0]\n",
    "    injuries_df = pd.concat([injuries_df,output_dict['injury_history']],axis=0)"
   ]
  },
  {
   "cell_type": "code",
   "execution_count": null,
   "id": "e0676026-f0cc-496f-a229-2142eeb691e9",
   "metadata": {},
   "outputs": [],
   "source": [
    "injury_age1 = pd.read_csv('injuries_age1.csv')\n",
    "injury_age2 = pd.read_csv('injuries_age2.csv')\n",
    "injury_age3 = pd.read_csv('injuries_age3.csv')\n",
    "injury_age4 = pd.read_csv('injuries_age4.csv')"
   ]
  },
  {
   "cell_type": "code",
   "execution_count": null,
   "id": "3ddba574-c257-47cf-90df-17d9f25559dd",
   "metadata": {},
   "outputs": [],
   "source": [
    "complete_injury_age_df = pd.concat([injury_age1, injury_age2,injury_age3,injury_age4], ignore_index=True).reset_index(drop=True)\n",
    "complete_injury_age_df = complete_injury_age_df.drop_duplicates(subset=['sb_id','from','until']).reset_index(drop=True)"
   ]
  },
  {
   "cell_type": "code",
   "execution_count": null,
   "id": "62480ee0-7541-48d6-97c8-556d73cfa67f",
   "metadata": {},
   "outputs": [],
   "source": [
    "import re\n",
    "for i, row in complete_injury_age_df.iterrows():\n",
    "    if re.search(\"^[a-zA-Z]\", complete_injury_age_df.loc[i,'from']) is not None:\n",
    "        complete_injury_age_df.loc[i,'from'] = datetime.datetime.strptime(complete_injury_age_df.loc[i,'from'], '%b %d, %Y').strftime('%Y-%m-%d')\n",
    "    if re.search(\"^[a-zA-Z]\", complete_injury_age_df.loc[i,'until']) is not None:\n",
    "        complete_injury_age_df.loc[i,'until'] = datetime.datetime.strptime(complete_injury_age_df.loc[i,'until'], '%b %d, %Y').strftime('%Y-%m-%d')\n",
    "complete_injury_age_df = complete_injury_age_df[complete_injury_age_df['from'] != '0']\n",
    "complete_injury_age_df = complete_injury_age_df[complete_injury_age_df['until'] != '0']\n",
    "complete_injury_age_df = complete_injury_age_df[complete_injury_age_df['Days'] != '? days']\n",
    "complete_injury_age_df = complete_injury_age_df.reset_index(drop=True)"
   ]
  },
  {
   "cell_type": "code",
   "execution_count": null,
   "id": "0b2981d2-132b-41a9-b5de-1f6097ff23be",
   "metadata": {},
   "outputs": [],
   "source": [
    "import time\n",
    "bio_player_df = pd.DataFrame()\n",
    "player_heights = []\n",
    "player_dobs = []\n",
    "for pid in tqdm(player_tm_ids):\n",
    "    time.sleep(2)\n",
    "    height, dob = p.tm_pull(player_page, pid, player_bio = True)\n",
    "    player_heights.append(height)\n",
    "    player_dobs.append(dob)\n",
    "    \n",
    "bio_player_df['tm_id'] = player_tm_ids\n",
    "bio_player_df['height'] = player_heights\n",
    "bio_player_df['dob'] = player_dobs"
   ]
  },
  {
   "cell_type": "markdown",
   "id": "0b12d578-2bf7-46a1-a62f-9d696412ae49",
   "metadata": {},
   "source": [
    "## Player All Features"
   ]
  },
  {
   "cell_type": "code",
   "execution_count": null,
   "id": "cb592729-6028-4824-829f-b321a3410a51",
   "metadata": {},
   "outputs": [],
   "source": [
    "fixture_dfs = []\n",
    "for pid in tqdm(player_tm_ids[:1]):\n",
    "    sbid = players_df[players_df['tm_id']==pid]['player_id'].values[0]\n",
    "    fixtures = p.tm_pull(player_page, pid, fixture_history = True)\n",
    "    fixtures['matches_played'] = fixtures.index\n",
    "    #fixtures.to_csv('player_data/'+str(sbid)+\"/\"+str(sbid)+\"_fixtures.csv\",index=False)"
   ]
  },
  {
   "cell_type": "markdown",
   "id": "ba75ba56-5bfe-4266-a188-9471c20bdba9",
   "metadata": {},
   "source": [
    "## Get Team fixtures"
   ]
  },
  {
   "cell_type": "code",
   "execution_count": null,
   "id": "bea58945-d63e-479d-9f3f-d536fc9c2784",
   "metadata": {},
   "outputs": [],
   "source": [
    "team_representative = pd.DataFrame()\n",
    "representative_player = ['Ryan Bennett','Joe Bennett','Matt Ritchie','James Ward-Prowse','Troy Deeney','Wilfried Zaha','Eden Hazard','Kevin De Bruyne','Charlie Daniels','Kevin McDonald','Glenn Murray','Harry Kane','Jamie Vardy','Aaron Mooy','Mark Noble','Jordan Pickford','Laurent Koscielny','Ashley Barnes','James Philip Milner','David de Gea Quintana','Kyle Naughton','Craig Dawson','Charlie Adam']\n",
    "team_representative['team_id'] = players_df['team_id'].unique()\n",
    "team_representative['player_name'] = representative_player\n",
    "team_representative = team_representative.merge(players_df[['player_name','tm_id']],on='player_name',how='left')"
   ]
  },
  {
   "cell_type": "code",
   "execution_count": null,
   "id": "12126a33-effd-4479-bf3b-85b916ada7af",
   "metadata": {},
   "outputs": [],
   "source": [
    "fixture_dfs = []\n",
    "for i, pid in tqdm(team_representative.iterrows()):\n",
    "    team_id = pid['team_id']\n",
    "    tm_id = pid['tm_id']\n",
    "    #sbid = players_df[players_df['tm_id']==pid]['player_id'].values[0]\n",
    "    fixtures = p.tm_pull(player_page, tm_id, fixture_history = True)\n",
    "    fixtures['matches_played'] = fixtures.index\n",
    "    #fixtures.to_csv('team_data/'+str(team_id)+\"_fixtures.csv\",index=False)"
   ]
  },
  {
   "cell_type": "code",
   "execution_count": null,
   "id": "42c59c71-236c-4f86-899f-454b55b87f60",
   "metadata": {},
   "outputs": [],
   "source": [
    "ids = []\n",
    "for player_id in players_df['player_id']:\n",
    "    player_fixtures = pd.read_csv('player_data/'+str(player_id)+'/'+str(player_id)+'_fixtures.csv')\n",
    "    if len(player_fixtures['season'].unique()) != 2:\n",
    "        ids.append(player_id)\n",
    "\n",
    "temp_df = players_df[players_df['player_id'].isin(ids)]"
   ]
  },
  {
   "cell_type": "code",
   "execution_count": null,
   "id": "2adf6cdf-18e5-4fd8-8874-9bf64085f37c",
   "metadata": {},
   "outputs": [],
   "source": [
    "for player_id in players_df['player_id']:\n",
    "    fixtures_df = pd.read_csv('player_data/'+str(player_id)+'/'+str(player_id)+'_fixtures.csv')\n",
    "    fixtures_df['game_date'] = pd.to_datetime(fixtures_df['game_date'])\n",
    "    fixtures_df['days_diff'] = fixtures_df['game_date'].diff().dt.days\n",
    "    try:\n",
    "        fixtures_df['days_diff'] = fixtures_df['days_diff'].fillna(int(fixtures_df['days_diff'].dropna().mean()))\n",
    "    except:\n",
    "        fixtures_df['days_diff'] = fixtures_df['days_diff'].fillna(30)\n",
    "    fixtures_df['rolling_days_diff'] = fixtures_df['days_diff'].rolling(window=5,min_periods=1).mean()\n",
    "    fixtures_df['rolling_mins_played'] = fixtures_df['Minutes'].rolling(window=5,closed='left',min_periods=1).mean()\n",
    "    fixtures_df['rolling_mins_played'] = fixtures_df['rolling_mins_played'].fillna(0)\n",
    "    fixtures_df['rolling_days_diff_exp'] = fixtures_df['days_diff'].ewm(com=0.25,min_periods=1,adjust=True).mean()\n",
    "    fixtures_df['rolling_mins_played_exp'] = fixtures_df['Minutes'].ewm(com=0.25,min_periods=1,adjust=True).mean().shift(periods=1,fill_value=0)\n",
    "    #fixtures_df.to_csv('player_data/'+str(player_id)+'/'+str(player_id)+'_fixtures.csv', index=False)"
   ]
  },
  {
   "cell_type": "markdown",
   "id": "da0e4608-b53d-429e-b882-195a5e1e8681",
   "metadata": {},
   "source": [
    "## Add in physical metrics to fixtures and store data"
   ]
  },
  {
   "cell_type": "code",
   "execution_count": null,
   "id": "7a907985-04ed-4304-995d-3fc5d964f0c5",
   "metadata": {},
   "outputs": [],
   "source": [
    "phys_games_df = games_df.rename(columns={'game_id':'match_id'})\n",
    "phys_games_df['game_date'] = pd.to_datetime(phys_games_df['game_date']).dt.date\n",
    "all_prem_physical_data = pd.DataFrame()\n",
    "for game in games_df['game_id']:\n",
    "    phys_df = pd.read_csv('physical_data/'+str(game)+'/'+str(game)+'_updated.csv')\n",
    "    all_prem_physical_data = pd.concat([all_prem_physical_data,phys_df])\n",
    "all_prem_physical_data = pd.merge(all_prem_physical_data,phys_games_df[['match_id','game_date']], on='match_id', how='left')\n",
    "all_prem_physical_data['game_date'] = pd.to_datetime(all_prem_physical_data['game_date'])\n",
    "all_prem_physical_data = all_prem_physical_data.rename(columns={'player_id':'sb_id'})"
   ]
  },
  {
   "cell_type": "code",
   "execution_count": null,
   "id": "c015cffe-2be7-43ff-9809-64effac6621b",
   "metadata": {},
   "outputs": [],
   "source": [
    "import math\n",
    "phys_columns = ['pred_dist', 'hir_dist', 'sprint_dist', 'num_hirs', 'num_sprints','accels', 'decels', 'LI_accels', 'LI_decels']\n",
    "for player_id in players_df['player_id'][:5]:\n",
    "    fixtures_df = pd.read_csv('player_data/'+str(player_id)+'/'+str(player_id)+'_fixtures.csv')\n",
    "    fixtures_df['game_date'] = pd.to_datetime(fixtures_df['game_date'])\n",
    "    fixtures_df['sb_id'] = player_id\n",
    "    fixtures_df = pd.merge(fixtures_df,all_prem_physical_data.drop('minutes',axis=1),on=['game_date','sb_id'],how='left')\n",
    "    fixtures_df['total_mins'] = fixtures_df.loc[(fixtures_df['Competition'] == 'Premier League') & (fixtures_df['pred_dist'].notna()) & (fixtures_df['Minutes'] >= 20), 'Minutes'].cumsum()\n",
    "    fixtures_df['total_mins'] = fixtures_df['total_mins'].fillna(method='ffill')\n",
    "    fixtures_df['total_mins'] = fixtures_df['total_mins'].fillna(method='bfill')\n",
    "    for phys_col in phys_columns:\n",
    "        fixtures_df['cum_'+phys_col] = fixtures_df.loc[(fixtures_df['Competition'] == 'Premier League') & (fixtures_df[phys_col].notna()) & (fixtures_df['Minutes'] >= 20), phys_col].cumsum()\n",
    "        fixtures_df['cum_'+phys_col] = fixtures_df['cum_'+phys_col].fillna(method='ffill')\n",
    "        missing_mask = fixtures_df[phys_col].isnull()\n",
    "        fixtures_df.loc[missing_mask, phys_col] = (fixtures_df.loc[missing_mask, 'cum_'+phys_col] / fixtures_df.loc[missing_mask, 'total_mins']) * fixtures_df.loc[missing_mask, 'Minutes']\n",
    "        before_mask = fixtures_df[phys_col].isnull()\n",
    "        fixtures_df.loc[before_mask, phys_col] = fixtures_df[phys_col].fillna(method='bfill')\n",
    "        fixtures_df.loc[before_mask, phys_col] = (fixtures_df.loc[before_mask, phys_col] / fixtures_df['total_mins']) * fixtures_df.loc[before_mask, 'Minutes']\n",
    "        fixtures_df[phys_col] = fixtures_df[phys_col].fillna(method='ffill')\n",
    "    fixtures_df['metres_per_min'] = fixtures_df['metres_per_min'].fillna(method='ffill').fillna(method='bfill')\n",
    "    \n",
    "   ##ACWR CODE\n",
    "    yesterday_dates = fixtures_df['game_date'] - pd.Timedelta(\"1 day\")\n",
    "    last_week_dates = fixtures_df['game_date'] - pd.Timedelta(\"8 days\")\n",
    "    week_2_dates_1 = fixtures_df['game_date'] - pd.Timedelta(\"9 days\")\n",
    "    week_2_dates_2 = fixtures_df['game_date'] - pd.Timedelta(\"16 days\")\n",
    "    week_3_dates_1 = fixtures_df['game_date'] - pd.Timedelta(\"17 days\")\n",
    "    week_3_dates_2 = fixtures_df['game_date'] - pd.Timedelta(\"24 days\")\n",
    "    week_4_dates_1 = fixtures_df['game_date'] - pd.Timedelta(\"25 days\")\n",
    "    week_4_dates_2 = fixtures_df['game_date'] - pd.Timedelta(\"32 days\")\n",
    "    week_1_workload = [fixtures_df['pred_dist'][fixtures_df['game_date'].between(last_week, yesterday)].sum()\n",
    "                    for yesterday, last_week in zip(yesterday_dates, last_week_dates)]\n",
    "    week_2_workload = [fixtures_df['pred_dist'][fixtures_df['game_date'].between(day7, day1)].sum()\n",
    "                    for day1, day7 in zip(week_2_dates_1, week_2_dates_2)]\n",
    "    week_3_workload = [fixtures_df['pred_dist'][fixtures_df['game_date'].between(day7, day1)].sum()\n",
    "                    for day1, day7 in zip(week_3_dates_1, week_3_dates_2)]\n",
    "    week_4_workload = [fixtures_df['pred_dist'][fixtures_df['game_date'].between(day7, day1)].sum()\n",
    "                    for day1, day7 in zip(week_4_dates_1, week_4_dates_2)]\n",
    "    fixtures_df[\"acute_workload\"] = week_1_workload\n",
    "    fixtures_df['chronic_workload'] = [sum(x)/4 for x in zip(week_1_workload,week_2_workload,week_3_workload,week_4_workload)]\n",
    "    fixtures_df['ACWR'] = (fixtures_df[\"acute_workload\"]/fixtures_df['chronic_workload']).fillna(1)\n",
    "    \n",
    "    #Turn to weighted averages\n",
    "    #fixtures_df['metres_per_min'] = fixtures_df['metres_per_min'].ewm(com=0.25,min_periods=1,adjust=True).mean().shift(periods=1,fill_value=0)\n",
    "    #for phys_col in phys_columns:    \n",
    "    #    fixtures_df[phys_col] = fixtures_df[phys_col].ewm(com=0.25,min_periods=1,adjust=True).mean().shift(periods=1,fill_value=0)\n",
    "    #fixtures_df.to_csv('player_data/'+str(player_id)+'/'+str(player_id)+'_fixtures_with_physical_updated.csv', index=False)\n"
   ]
  }
 ],
 "metadata": {
  "kernelspec": {
   "display_name": "Python 3 (ipykernel)",
   "language": "python",
   "name": "python3"
  },
  "language_info": {
   "codemirror_mode": {
    "name": "ipython",
    "version": 3
   },
   "file_extension": ".py",
   "mimetype": "text/x-python",
   "name": "python",
   "nbconvert_exporter": "python",
   "pygments_lexer": "ipython3",
   "version": "3.8.15"
  }
 },
 "nbformat": 4,
 "nbformat_minor": 5
}
