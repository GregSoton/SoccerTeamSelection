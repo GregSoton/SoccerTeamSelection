{
 "cells": [
  {
   "cell_type": "markdown",
   "id": "15c58151-bae5-42c1-b86e-d1de0a47c154",
   "metadata": {},
   "source": [
    "# Retrieve Injury Rates of MCTS Season Simulations - Gets Results for Section 7\n",
    "\n",
    "(Files from compute cluster runs)"
   ]
  },
  {
   "cell_type": "code",
   "execution_count": null,
   "id": "48c4945a-0c6d-445d-aa1a-69301da3d3d2",
   "metadata": {},
   "outputs": [],
   "source": [
    "import pandas as pd\n",
    "import os\n",
    "import numpy as np\n",
    "from scipy import stats\n",
    "os.chdir('..')\n",
    "import team_selection_MDP.MDP as MDP\n",
    "from statistics import quantiles"
   ]
  },
  {
   "cell_type": "code",
   "execution_count": null,
   "id": "53b5d6a5-695c-46e2-b2dc-3bb6c247c429",
   "metadata": {},
   "outputs": [],
   "source": [
    "team_id = 58\n",
    "team_directory = 'data/MCTSResults/'+str(team_id)\n",
    "files = os.listdir(team_directory)\n",
    "team_squad = pd.read_csv('team_selection_MDP/Team_squads/'+str(team_id)+'.csv')\n",
    "squad_player_ids = team_squad['player_name'].values\n",
    "wage_data = pd.read_csv('data/overview_data/wages_df.csv')\n",
    "#team_rewards = pd.read_csv('team_selection_MDP/Team_rewards/'+str(team_id)+'.csv')"
   ]
  },
  {
   "cell_type": "code",
   "execution_count": null,
   "id": "27a29ec9-cfd4-4e0f-b4ed-f4f13aa024e7",
   "metadata": {},
   "outputs": [],
   "source": [
    "positions = [[1,2,3,4],[5,6],[7,8],[9,10,11,12,13],[14,15],[16,17],[18,19]]\n",
    "counts = [2,1,1,3,1,1,1]\n",
    "\n",
    "def greedy_selection(selection_list, player_vaeps, num_selections, injury_dict):\n",
    "    total_val = 0\n",
    "    \n",
    "    new_selection_list = []\n",
    "    for i in range(len(selection_list)):\n",
    "        if injury_dict[selection_list[i]] == False:\n",
    "            new_selection_list.append(selection_list[i])\n",
    "    \n",
    "    while len(new_selection_list) < num_selections:\n",
    "        new_selection_list.append(20)\n",
    "            \n",
    "    selection_values = player_vaeps[new_selection_list]\n",
    "    max_indexes = np.argsort(selection_values)[-num_selections:]\n",
    "    return [new_selection_list[i]-1 for i in sorted(max_indexes)]"
   ]
  },
  {
   "cell_type": "code",
   "execution_count": null,
   "id": "32975ae9-9229-4e4c-9738-1c5bf22235f4",
   "metadata": {},
   "outputs": [],
   "source": [
    "optimal_team_index=[]\n",
    "dictionary = {key:False for key in range(1,20)}\n",
    "squad_vaep = team_squad['vaep'].values\n",
    "for p,c in zip(positions,counts):\n",
    "    optimal_team_index += greedy_selection(p,squad_vaep,c,dictionary)"
   ]
  },
  {
   "cell_type": "code",
   "execution_count": null,
   "id": "cabf5203-6e73-47d3-8f12-e5a0569e1d68",
   "metadata": {},
   "outputs": [],
   "source": [
    "starting_injuries_all = []\n",
    "all_injuries_all = []\n",
    "for f in files:\n",
    "    try:\n",
    "        team_df = pd.read_csv('data/MCTSResults/'+str(team_id)+'/'+f)\n",
    "        injury_changes = team_df.iloc[:,21:40].diff().fillna(0)\n",
    "        injury_changes.columns = range(1,20)\n",
    "        all_injuries = (injury_changes > 0).sum().sum()\n",
    "        starting_index = optimal_team_index\n",
    "        starting_injuries = injury_changes.iloc[:,starting_index]\n",
    "        starting_inj_number = (starting_injuries>0).sum().sum()\n",
    "        #starting_injuries_all.append(starting_inj_number)\n",
    "        #all_injuries_all.append(all_injuries) \n",
    "        starting_injuries_all.append(starting_inj_number)\n",
    "        all_injuries_all.append(all_injuries) \n",
    "    except:\n",
    "        continue"
   ]
  },
  {
   "cell_type": "code",
   "execution_count": null,
   "id": "35fb9fb0-44ed-47a3-ad97-aeb97165f5e6",
   "metadata": {},
   "outputs": [],
   "source": [
    "print(\"Total injuries: \", np.array(all_injuries_all).mean())\n",
    "print(\"First Team injuries: \", np.array(starting_injuries_all).mean())"
   ]
  },
  {
   "cell_type": "code",
   "execution_count": null,
   "id": "8f460c75-074f-4d09-86a9-64db66119676",
   "metadata": {},
   "outputs": [],
   "source": [
    "print(\"Total injuries: \", np.percentile(np.array(all_injuries_all),25,method='linear'))\n",
    "print(\"First Team injuries: \", np.percentile(np.array(starting_injuries_all),25,method='linear'))"
   ]
  },
  {
   "cell_type": "code",
   "execution_count": null,
   "id": "055f5a0a-8cd2-46ec-8bb6-8c347bdc92ef",
   "metadata": {},
   "outputs": [],
   "source": [
    "print(\"Total injuries: \", np.percentile(np.array(all_injuries_all),75,method='linear'))\n",
    "print(\"First Team injuries: \", np.percentile(np.array(starting_injuries_all),75,method='linear'))"
   ]
  },
  {
   "cell_type": "markdown",
   "id": "119f3293-2a97-4b6f-a2f8-48cd73d68238",
   "metadata": {},
   "source": [
    "# Wage Data\n",
    "Compute wages lost for each team using wage data and days spent injured in simulations"
   ]
  },
  {
   "cell_type": "code",
   "execution_count": null,
   "id": "73c59fa3-c383-42bf-9178-a182b0b8caa6",
   "metadata": {},
   "outputs": [],
   "source": [
    "squad_wage_data = wage_data[wage_data['player_name'].isin(squad_player_ids)].copy()\n",
    "# Create a temporary mapping between values and their order indices\n",
    "order_mapping = {value: index for index, value in enumerate(squad_player_ids)}\n",
    "\n",
    "# Create a new column based on the order_mapping\n",
    "squad_wage_data['order_index'] = squad_wage_data['player_name'].map(order_mapping)\n",
    "\n",
    "# Sort the DataFrame by the 'order_index' column\n",
    "squad_wage_data_sorted = squad_wage_data.sort_values('order_index')\n",
    "\n",
    "# Drop the temporary 'order_index' column if needed\n",
    "squad_wage_data_sorted = squad_wage_data_sorted.drop('order_index', axis=1).reset_index(drop=True)\n",
    "\n",
    "squad_wage_data_sorted = squad_wage_data_sorted.fillna(0)"
   ]
  },
  {
   "cell_type": "code",
   "execution_count": null,
   "id": "ceaea180-4d1d-475b-9e43-1853efdcac8f",
   "metadata": {},
   "outputs": [],
   "source": [
    "total_wages_losts = []\n",
    "for f in files[1:]:\n",
    "    team_df = pd.read_csv('data/MCTSResults/'+str(team_id)+'/'+f)\n",
    "    team_df_injuries = team_df.iloc[:,21:40]\n",
    "    team_df_injuries.columns = squad_player_ids[1:-1]\n",
    "    team_df_injuries['date'] = game_dates\n",
    "    team_df_injuries['Days_Between'] = team_df_injuries['date'].diff().dt.days.fillna(0)\n",
    "    count=1\n",
    "    total_wage_lost = 0\n",
    "    for name in squad_player_ids[1:-1]:\n",
    "        #print(name)\n",
    "        days_missed = team_df_injuries[team_df_injuries[name] > 0]['Days_Between'].sum()\n",
    "        weeks_missed = days_missed/7\n",
    "        try:\n",
    "            wage_lost = round( weeks_missed * squad_wage_data_sorted.loc[squad_wage_data_sorted['player_name'] == name,'Gross P/W(GBP)'].values[0])\n",
    "        except:\n",
    "            wage_lost=0\n",
    "        total_wage_lost += wage_lost\n",
    "        count+=1\n",
    "    total_wages_losts.append(total_wage_lost)\n",
    "        #print(\"Days missed: \", team_df_injuries[team_df_injuries[name] > 0]['Days_Between'].sum())\n",
    "        #print(\"Wage lost: \", wage_lost)\n"
   ]
  },
  {
   "cell_type": "code",
   "execution_count": null,
   "id": "94a4da49-4005-4e29-9f27-8b141733167c",
   "metadata": {},
   "outputs": [],
   "source": [
    "total_wages_losts_greedy = []\n",
    "for f in greedy_files[1:]:\n",
    "    team_df = pd.read_csv('data/greedy_dfs/'+str(team_id)+'/'+f)\n",
    "    team_df_injuries = team_df.iloc[:,:19]\n",
    "    team_df_injuries.columns = squad_player_ids[1:-1]\n",
    "    team_df_injuries['date'] = game_dates\n",
    "    team_df_injuries['Days_Between'] = team_df_injuries['date'].diff().dt.days.fillna(0)\n",
    "    count=1\n",
    "    total_wage_lost = 0\n",
    "    for name in squad_player_ids[1:-1]:\n",
    "        #print(name)\n",
    "        days_missed = team_df_injuries[team_df_injuries[name] > 0]['Days_Between'].sum()\n",
    "        weeks_missed = days_missed/7\n",
    "        try:\n",
    "            wage_lost = round( weeks_missed * squad_wage_data_sorted.loc[squad_wage_data_sorted['player_name'] == name,'Gross P/W(GBP)'].values[0])\n",
    "        except:\n",
    "            wage_lost=0\n",
    "        total_wage_lost += wage_lost\n",
    "        count+=1\n",
    "    total_wages_losts_greedy.append(total_wage_lost)\n",
    "        #print(\"Days missed: \", team_df_injuries[team_df_injuries[name] > 0]['Days_Between'].sum())\n",
    "        #print(\"Wage lost: \", wage_lost)"
   ]
  },
  {
   "cell_type": "code",
   "execution_count": null,
   "id": "2d74f49f-a67d-4fee-b77c-ec196b740560",
   "metadata": {},
   "outputs": [],
   "source": [
    "ci_greedy =  stats.norm.interval(0.95, loc=np.mean(total_wages_losts_greedy), scale=stats.sem(total_wages_losts_greedy))\n",
    "greedy_ci_width = (ci_greedy[1] - ci_greedy[0])/2\n",
    "ci =  stats.norm.interval(0.95, loc=np.mean(total_wages_losts), scale=stats.sem(total_wages_losts))\n",
    "ci_width = (ci[1] - ci[0])/2\n",
    "print(\"Wage lost MCTS Average: \", np.mean(total_wages_losts))\n",
    "print(\"Wage lost Greedy Average: \", np.mean(total_wages_losts_greedy))\n",
    "print(\"Wage lost MCTS 95%: \", ci_width)\n",
    "print(\"Wage lost Greedy 95%: \", greedy_ci_width)"
   ]
  }
 ],
 "metadata": {
  "kernelspec": {
   "display_name": "Python 3 (ipykernel)",
   "language": "python",
   "name": "python3"
  },
  "language_info": {
   "codemirror_mode": {
    "name": "ipython",
    "version": 3
   },
   "file_extension": ".py",
   "mimetype": "text/x-python",
   "name": "python",
   "nbconvert_exporter": "python",
   "pygments_lexer": "ipython3",
   "version": "3.8.15"
  }
 },
 "nbformat": 4,
 "nbformat_minor": 5
}
