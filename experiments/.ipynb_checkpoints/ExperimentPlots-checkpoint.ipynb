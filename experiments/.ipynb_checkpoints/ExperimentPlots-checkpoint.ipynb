{
 "cells": [
  {
   "cell_type": "markdown",
   "id": "468f7a60-1793-4d9a-8fcb-c79ff620c892",
   "metadata": {},
   "source": [
    "# Experiment Plots - Section 7"
   ]
  },
  {
   "cell_type": "code",
   "execution_count": null,
   "id": "ff23a0c2-4193-4d0c-8026-4629cd8b5777",
   "metadata": {},
   "outputs": [],
   "source": [
    "import matplotlib.pyplot as plt\n",
    "import seaborn as sns\n",
    "import pandas as pd\n",
    "from matplotlib import rcParams\n",
    "import os\n",
    "os.chdir('..')\n",
    "default_color = '#4477AA'\n",
    "# figure size in inches\n",
    "#rcParams['figure.figsize'] = 6.2,3.17"
   ]
  },
  {
   "cell_type": "markdown",
   "id": "05ecd56f-2fe9-4fa5-8a69-2164198a0c3c",
   "metadata": {},
   "source": [
    "## Paper Experiment 1 - Injury Model"
   ]
  },
  {
   "cell_type": "code",
   "execution_count": null,
   "id": "391eebf1-8740-4fdf-8345-ecf96ce468c4",
   "metadata": {},
   "outputs": [],
   "source": [
    "injuries_df = pd.read_csv('data/predictions/injury_predictions_XGB.csv')\n",
    "injuries_df['date'] = pd.to_datetime(injuries_df['date'],format='%Y-%m-%d %H:%M:%S')\n",
    "teams = pd.read_csv('data/overview_data/teams.csv')\n",
    "team_ids = sorted(teams['team_id'].values)\n",
    "\n",
    "injureds=[]\n",
    "injured_probs=[]\n",
    "for team_id in team_ids:\n",
    "    print(team_id)\n",
    "    if team_id in [30,26,27,46,55,58]:\n",
    "        team_injuries = injuries_df[injuries_df['team_id']==team_id]\n",
    "        injureds.append(team_injuries['injured'].sum())\n",
    "        injured_probs.append(team_injuries['injury_prob'].sum())\n",
    "    else:\n",
    "        team_injuries = injuries_df[injuries_df['team_id']==team_id]\n",
    "        injureds.append(team_injuries['injured'].sum()/2)\n",
    "        injured_probs.append(team_injuries['injury_prob'].sum()/2)"
   ]
  },
  {
   "cell_type": "code",
   "execution_count": null,
   "id": "a630965e-a5bc-491e-b054-53f608e57536",
   "metadata": {},
   "outputs": [],
   "source": [
    "plt.style.reload_library()\n",
    "plt.style.use(['science','no-latex'])\n",
    "rcParams['figure.figsize'] = 6.6,3.17\n",
    "plt.gcf()\n",
    "with plt.style.context(['science','no-latex','bright']):\n",
    "    rplot = sns.regplot(x=injureds, y=injured_probs,scatter_kws={'s':50})\n",
    "    team_names = ['Wolves','Burnley','Leicester','Brighton','West Brom','Fulham','Newcastle','Chelsea','Huddersfield','Stoke','Swansea','Watford','Crystal Palace','Bournemouth','Man City','Liverpool','Everton','Cardiff','Southampton','Tottenham','Man United','West Ham','Arsenal']\n",
    "    count=0\n",
    "    for (i,j) in zip(injureds,injured_probs):\n",
    "         if (team_names[count] == 'Huddersfield') or (team_names[count] == 'Tottenham'):   \n",
    "            plt.text(i-1.2, j+0.25, team_names[count],size=12)\n",
    "        elif (team_names[count] == \"Swansea\") or (team_names[count] == \"Liverpool\") or (team_names[count] == \"Southampton\") or (team_names[count] == \"Burnley\"):\n",
    "            plt.text(i-0.1, j-0.7, team_names[count],size=12)\n",
    "        else:\n",
    "            plt.text(i-0.1, j+0.25, team_names[count],size=12)\n",
    "        count+=1\n",
    "    rplot.set_xlabel('Actual number of injuries per Season',size=15)\n",
    "    rplot.set_ylabel('Expected injuries per season',size=15)\n",
    "    rplot.set_xticks([10,15,20,25,30],size=15)\n",
    "    rplot.set_yticks([10,15,20,25,30],size=15)\n",
    "    rplot.set_yticklabels(rplot.get_yticks(), size = 15)\n",
    "    rplot.set_xticklabels(rplot.get_xticks(), size = 15)\n",
    "    rplot.set_ylim(10,31)\n",
    "    rplot.set_xlim(10,31)\n",
    "    rplot.text(11, 29, 'r={:.2f}, p={:.2g}'.format(0.76957, 0.0000727),size=15)\n",
    "    plt.show()\n",
    "    fig = rplot.get_figure()\n",
    "    fig.savefig(\"injuries_correlation.png\",dpi=800,bbox_inches='tight') "
   ]
  },
  {
   "cell_type": "code",
   "execution_count": null,
   "id": "41ae1ab8-cd77-40aa-a44b-c02cfe6a8776",
   "metadata": {},
   "outputs": [],
   "source": [
    "slope, intercept, r, p, sterr = scipy.stats.linregress(x=injureds,\n",
    "                                                       y=injured_probs)\n",
    "p"
   ]
  },
  {
   "cell_type": "markdown",
   "id": "124b0a95-3d96-4aa4-af0d-366d436f5848",
   "metadata": {},
   "source": [
    "## Paper Experiment 2 - MCTS and Greedy similarity to real selections\n",
    "MCTS similarities and Greedy similarities were logged in a spreadsheet following runs on compute cluster"
   ]
  },
  {
   "cell_type": "code",
   "execution_count": null,
   "id": "b504069d-6639-474b-b2a9-5de244e78fb8",
   "metadata": {},
   "outputs": [],
   "source": [
    "plt.gcf()\n",
    "fig, ax = plt.subplots(figsize=(5,2))\n",
    "similarity_data_MCTS = [77.8,81.0,71.8,81.8,72.7,74.1,71.4,78.3,86.1,70.1,76.4,80.0,78.7,70.8,81.4,74.0,76.3,81.6,74.7,71.3]\n",
    "similarity_data_Greedy = [75.5,89.8,69.8,90.8,74.1,79.3,75.1,80.5,90.8,71.4,79.5,82.1,83.5,81.8,88.1,77.9,88.3,85.3,84.0,75.5]\n",
    "boxplot_data=[similarity_data_MCTS,similarity_data_Greedy]\n",
    "boxplot = ax.boxplot(boxplot_data,widths=0.5)\n",
    "boxplot['medians'][0].set(color='blue',linewidth=1.5)\n",
    "boxplot['medians'][1].set(color='blue',linewidth=1.5)\n",
    "for component in boxplot.keys():\n",
    "    if component != 'medians':\n",
    "        plt.setp(boxplot[component], linewidth=1.5)\n",
    "ax.set_xticks([1,2],labels=['MCTS','Greedy'])\n",
    "ax.set_ylabel('Similarity (%)')\n",
    "ax.set_ylim(60,100)\n",
    "plt.show()\n",
    "fig.savefig('similarity_boxplot.png',dpi=800,bbox_inches='tight')"
   ]
  },
  {
   "cell_type": "markdown",
   "id": "e8167dc8-93a6-438d-b4f9-f8bd868f8b4c",
   "metadata": {},
   "source": [
    "## Paper Experiment 3 & 4 - MCTS Results\n",
    "MCTS and Greedy Results logged in a spreadsheet following runs on a compute cluster. The table for experiment 3 was created in word using values from this spreadsheet."
   ]
  },
  {
   "cell_type": "code",
   "execution_count": null,
   "id": "01c26616-3f9b-476c-bbbd-bb0bcefab850",
   "metadata": {},
   "outputs": [],
   "source": [
    "import numpy as np\n",
    "import matplotlib.pyplot as plt\n",
    "plt.style.reload_library()\n",
    "plt.style.use(['science','no-latex'])\n",
    "with plt.style.context(['science','no-latex','bright']):\n",
    "    fig = plt.figure(figsize=(7.5,5.5))\n",
    "\n",
    "    plt.subplot(2, 1, 1)\n",
    "\n",
    "    N = 2\n",
    "    ind = np.arange(N) \n",
    "    width = 0.25\n",
    "\n",
    "    xvals = [-0.5, 1.8]\n",
    "    bar1 = plt.bar(ind-width, xvals, width, yerr=[1.3,1.6], capsize=14.5, color = 'grey')\n",
    "\n",
    "    yvals = [1.3, 2.8]\n",
    "    bar2 = plt.bar(ind, yvals, width, yerr=[0.7,1.0], capsize=14.5, color='blue')\n",
    "\n",
    "    zvals = [1.8, 2.7]\n",
    "    bar3 = plt.bar(ind+width, zvals, width, yerr=[0.6,0.7], capsize=14.5, color = 'orange')\n",
    "\n",
    "    plt.ylabel('% Increase vs Greedy',size=14.8)\n",
    "    plt.axhline(y=0, color='k', linestyle='--',alpha=0.2)\n",
    "    plt.xticks(ind,['Mean Performance', 'Lower Quartile Performance'], size=14.5)\n",
    "    plt.yticks([-2,0,2,4],size=14.5)\n",
    "    plt.ylim(-2,5)\n",
    "    plt.legend( (bar1, bar2, bar3), ('1x', '2x', '3x'), fontsize=\"14.5\" )\n",
    "\n",
    "    N = 2\n",
    "    ind = np.arange(N) \n",
    "    width = 0.25\n",
    "\n",
    "    plt.subplot(2, 1, 2)\n",
    "    xvals = [4.6, 13.1]\n",
    "    bar1 = plt.bar(ind-width, xvals, width, yerr=[1.3,1.3], capsize=14.5, color = 'grey')\n",
    "\n",
    "    yvals = [1.3, 11.4]\n",
    "    bar2 = plt.bar(ind, yvals, width, yerr=[0.9,1.0], capsize=14.5, color='blue')\n",
    "\n",
    "    zvals = [-0.2, 8.6]\n",
    "    bar3 = plt.bar(ind+width, zvals, width, yerr=[0.6,1.2], capsize=14.5, color = 'orange')\n",
    "\n",
    "    plt.ylabel('% Decrease vs Greedy',size=14.8)\n",
    "    plt.axhline(y=0, color='k', linestyle='--',alpha=0.2)\n",
    "    plt.xticks(ind,['Mean Squad Injuries','Mean Optimal Team Injuries'], size=14.5) \n",
    "    plt.yticks([0,5,10,15],size=14.5)\n",
    "    plt.ylim(-2,15)\n",
    "    plt.axhline(y=0, color='k', linestyle='--',alpha=0.2)\n",
    "    #plt.legend( (bar1, bar2, bar3), ('1x', '2x','3x') )\n",
    "    plt.show()\n",
    "    fig.savefig('Robustness.png',dpi=800)"
   ]
  },
  {
   "cell_type": "markdown",
   "id": "dae14402-9e9c-4a1f-bc0e-f93320f714fc",
   "metadata": {},
   "source": [
    "## Paper Experiment 5 - Wage Data\n",
    "Wage results data is logged in a spreadsheet after running the code in the MCTSResultsAnalysis notebook."
   ]
  },
  {
   "cell_type": "code",
   "execution_count": null,
   "id": "a36d9ad6-f15c-4a66-87fd-1e71ebdaa4e1",
   "metadata": {},
   "outputs": [],
   "source": [
    "import numpy as np\n",
    "team_wages_MCTS = np.array([12.82, 3.06, 2.36, 2.72, 1.91,12.09, 4.37, 5.73, 3.33, 2.02,4.75, 9.53, 14.40, 13.06, 2.62,3.83, 7.19, 3.05, 6.32, 2.61])\n",
    "team_wages_Greedy = np.array([14.49, 3.43, 3.01, 3.03, 2.17,13.07, 4.99, 6.72, 3.69, 2.33,5.50, 9.90, 16.20, 14.94, 2.88,4.04, 7.90, 3.34, 6.67, 3.15])  # Second set of bar values\n",
    "perc_decrease = ((team_wages_Greedy-team_wages_MCTS)/team_wages_Greedy)*100\n",
    "teams = np.array(['Arsenal', 'Bournemouth', 'Brighton', 'Burnley', 'Cardiff','Chelsea', 'Crystal Palace', 'Everton', 'Fulham', 'Huddersfield','Leicester', 'Liverpool', 'Man City', 'Man United', 'Newcastle','Southampton', 'Tottenham', 'Watford', 'West Ham', 'Wolves'])\n",
    "indexes = sorted(range(len(perc_decrease)), key=lambda x: perc_decrease[x])[::-1]\n",
    "errors = np.array([2.8,3.4,4.1,2.8,3.4,3.1,4.0,3.4,3.5,3.1,3.3,3.0,3.2,3.3,3.1,3.2,3.2,2.9,2.8,4.4])\n",
    "perc_decrease_sorted = perc_decrease[indexes]\n",
    "teams_sorted = teams[indexes]\n",
    "errors_sorted = errors[indexes]\n",
    "\n",
    "plt.style.reload_library()\n",
    "plt.style.use(['science','no-latex'])\n",
    "rcParams['figure.figsize'] = 16.2,8.34\n",
    "plt.gcf()\n",
    "with plt.style.context(['science','no-latex','bright']):\n",
    "    x = np.arange(20)  # Five x-axis values\n",
    "    #bar1_data = [12.82, 3.06, 2.36, 2.72, 1.91,12.09, 4.37, 5.73, 3.33, 2.02,4.75, 9.53, 14.40, 13.06, 2.62,3.83, 7.19, 3.05, 6.32, 2.61]  # First set of bar values\n",
    "    #bar1_errors = [0.70, 0.19, 0.14, 0.16, 0.12,0.51,0.32,0.31,0.21,0.12,0.3,0.6,0.89,0.62,0.18,0.23,0.31,0.14,0.3,0.2]  # Error values for bar 1\n",
    "    #bar2_errors = [0.20, 0.06, 0.05, 0.05, 0.04,0.2,0.1,0.11,0.07,0.04,0.1,0.16,0.23,0.23,0.05,0.08,0.13,0.06,0.1,0.06]  # Error values for bar 2\n",
    "    # Width of each bar\n",
    "    bar_width = 0.6\n",
    "\n",
    "    # Plotting the bars\n",
    "    fig, ax = plt.subplots(figsize=(18, 6.5))\n",
    "    bars1 = ax.bar(x, perc_decrease_sorted, width=bar_width, yerr=errors_sorted, capsize=5, label='MCTS')\n",
    "   #bars2 = ax.bar(x + bar_width, bar2_data, width=bar_width, yerr=bar2_errors, capsize=5, label='Greedy')\n",
    "\n",
    "    # Adding labels, title, and legend\n",
    "    ax.set_xlabel('Team',size=16)\n",
    "    ax.set_ylabel('Percentage Decrease in Wage Cost with Injuries',size=16)\n",
    "    ax.set_xticks(x+0.2)\n",
    "    ax.set_xticklabels(teams_sorted,rotation=60,size=16,ha='right')  # Replace with your x-axis labels\n",
    "    ax.set_yticks(range(0,28,2))\n",
    "    ax.set_yticklabels(range(0,28,2),size=16)\n",
    "    #ax.legend(fontsize=14)\n",
    "\n",
    "# Show plot\n",
    "plt.show()\n",
    "fig.savefig('wages_lost.png',dpi=800)"
   ]
  },
  {
   "cell_type": "markdown",
   "id": "278d55aa-0896-40be-a768-f2c15dc193ba",
   "metadata": {},
   "source": [
    "## Paper Experiment 6 - Player Welfare study"
   ]
  },
  {
   "cell_type": "code",
   "execution_count": null,
   "id": "613f0443-b555-4e2d-890f-ad126f7cb8ca",
   "metadata": {},
   "outputs": [],
   "source": [
    "kante_RL_inj_probs = pd.read_csv('kante_inj_probs_RL.csv').iloc[:,1] #Injury probs run in MDP notebook and saved to CSV\n",
    "kante_simmed_inj_probs = pd.read_csv('data/MCTSResults/33/33_75.683.csv')['12'] # A single season simulation for Chelsea using MCTS.\n",
    "kante_RL_inj_probs_RA = kante_RL_inj_probs.rolling(window=5,min_periods=0).mean()*100\n",
    "kante_simmed_inj_probs_RA = kante_simmed_inj_probs.rolling(window=5,min_periods=0).mean()*100\n",
    "kante_RL_inj_probs_RA.index=range(1,39)\n",
    "kante_simmed_inj_probs_RA.index=range(1,39)\n",
    "rests_simmed = [3,6,16,19,22,23] # Can see when they were rested in the simulation file\n",
    "rests_RL = [32,38] #Real-life rests in 18/19 season\n",
    "\n",
    "plt.style.reload_library()\n",
    "plt.style.use(['science','no-latex'])\n",
    "with plt.style.context(['science','no-latex','bright']):\n",
    "    fig = plt.figure(figsize=(15, 5.5)) \n",
    "    plt.plot(kante_RL_inj_probs_RA,label='Real World',linewidth=2)\n",
    "    plt.plot(kante_simmed_inj_probs_RA,label='MCTS',linewidth=2)\n",
    "    plt.scatter([r for r in rests_simmed],kante_simmed_inj_probs_RA[[i for i in rests_simmed]],color='palevioletred',alpha=1,s=50)\n",
    "    plt.scatter([r for r in rests_RL],kante_RL_inj_probs_RA[[i for i in rests_RL]],color=default_color,alpha=1,s=50)\n",
    "    plt.xlabel('Gameweek',size = 15)\n",
    "    plt.ylabel('Rolling Average Injury Probability (%)',size = 15)\n",
    "    plt.title(\"N'Golo Kanté 2018/19\",size = 15)\n",
    "    plt.legend(fontsize=15)\n",
    "    plt.xticks(range(1,39),size = 12)\n",
    "    plt.yticks([3,3.5,4,4.5,5],size = 12)\n",
    "    plt.show()\n",
    "    fig.savefig('PlayerWelfare.png',dpi=800)"
   ]
  },
  {
   "cell_type": "markdown",
   "id": "5b403273-0a7c-4f9e-a5de-db5056bc1df1",
   "metadata": {},
   "source": [
    "# Other experiments"
   ]
  },
  {
   "cell_type": "markdown",
   "id": "b46f6bd1-b410-4097-8fe9-342e2c7dcd30",
   "metadata": {},
   "source": [
    "## Shap values\n",
    "Shap values stored from using SHAP on the injury model"
   ]
  },
  {
   "cell_type": "code",
   "execution_count": null,
   "id": "4562e939-9632-4d45-87ed-d2210b51b9f3",
   "metadata": {},
   "outputs": [],
   "source": [
    "shap_df = pd.read_csv('shap_df.csv')\n",
    "shap_df['col_name'] = ['Acute workload','Number of past injuries','Career total days injured','Distance covered','Total dribbles (r.a)','Number of modal injury occurences','Chronic workload','Duration of longest injury (days)','Days since last injury','Opposing team','Injuries past twelve months','Age','Game day temperature (C)','Most recent injury length (days)',\"Player's current team\",'Opposition tackles (r.a)','Opposition fouls (r.a)','Travel distance to game (km)','Game day precipitation (mm)','Career total days injured with most common injury']\n",
    "plt.style.reload_library()\n",
    "plt.style.use(['science','no-latex'])\n",
    "rcParams['figure.figsize'] = 6.2,8.34\n",
    "plt.gcf()\n",
    "with plt.style.context(['science','no-latex','bright']):\n",
    "    fig, ax = plt.subplots(figsize=(6.2,8.34))\n",
    "    plt.barh(shap_df['col_name'][::-1],shap_df['feature_importance_vals'][::-1])\n",
    "    plt.xlabel('Mean |SHAP| (average impact on model output)',size=15)\n",
    "    plt.xticks(fontsize=12)\n",
    "    plt.yticks(fontsize=12)\n",
    "    fig.savefig('SHAP_values.png',dpi=600)"
   ]
  },
  {
   "cell_type": "markdown",
   "id": "b812879b-4977-4ada-aae5-3d799e7217b0",
   "metadata": {},
   "source": [
    "## Rested Player Example"
   ]
  },
  {
   "cell_type": "code",
   "execution_count": null,
   "id": "dd7cf8f7-7c3d-4f5b-b650-7b599a58b745",
   "metadata": {},
   "outputs": [],
   "source": [
    "plt.style.reload_library()\n",
    "plt.style.use(['science','no-latex'])\n",
    "rcParams['figure.figsize'] = 13.2,8.34\n",
    "plt.gcf()\n",
    "x=[1,2,3,4,5,6,7,8,9,10,11,12,13,14,15]\n",
    "xlabels = ['GW1 (1.7)','GW2 (1.7)','GW3 (0.6)','GW4 (0.3)','GW5 (1.3)','GW6 (2.4)','GW7 (2.7)','GW8 (2.3)','GW9 (1.8)','GW10 (1.3)','GW11 (2.7)','GW12 (2.2)','GW13 (1.7)','GW14 (0.6)','GW15 (2.4)']\n",
    "y=[4,4.3,4.9,5.8,4.8,4.6,5.0,5.2,6.0,4.9,4.7,5.5,6.5,6.8,5.1]#,3.6,4.4,4.8],1,2,1,2,3,1,2,1,2,3]\n",
    "fig, ax = plt.subplots(figsize=(14, 5))\n",
    "with plt.style.context(['science','no-latex','bright']):\n",
    "    plt.plot(x,y,zorder=1,linewidth=2.5) \n",
    "    plt.scatter(x,y,zorder=2,s=50)\n",
    "    plt.xticks(x, xlabels, rotation=270,size=15)\n",
    "    plt.yticks([4,5,6,7], [4,5,6,7], size=15)\n",
    "    plt.xlabel('Gameweek',size = 15)\n",
    "    plt.ylabel('Injury probability (%)',size = 15)\n",
    "    plt.axvline(x = 4, color = 'palevioletred',linestyle=\"dashed\",lw=1.5)\n",
    "    plt.axvline(x = 9, color = 'palevioletred',linestyle=\"dashed\",lw=1.5)\n",
    "    plt.axvline(x = 14, color = 'palevioletred',linestyle=\"dashed\",lw=1.5)\n",
    "    plt.text(4.1,4,\"Rested\",size=15)\n",
    "    plt.text(9.1,4,\"Rested\",size=15)\n",
    "    plt.text(14.1,4,\"Rested\",size=15)\n",
    "    for t in ax.get_xticklabels():\n",
    "        splt1 = str(t).split(\"'\", 2)[1]\n",
    "        num = float(splt1.replace(\")\",\"(\").split(\"(\",2)[1])\n",
    "        if (num > 2):\n",
    "            t.set_color('Red')\n",
    "        elif (num > 1):\n",
    "            t.set_color('Orange')\n",
    "        else:\n",
    "            t.set_color('Green')\n",
    "    xlabels = ['GW1','GW2','GW3','GW4','GW5','GW6','GW7','GW8','GW9','GW10','GW11','GW12','GW13','GW14','GW15']\n",
    "    plt.xticks(x, x, rotation=0, size=15)\n",
    "    legend_elements = [\n",
    "    plt.Line2D([0], [0], marker='o',color='w', markerfacecolor='green',lw=2, label='Least Important'),\n",
    "    plt.Line2D([0], [0], marker='o',color='w', lw=2, markerfacecolor='orange',label='Medium Importance'),\n",
    "     plt.Line2D([0], [0], marker='o',color='w', lw=2, markerfacecolor='red',label='Most Important'),\n",
    "    ]\n",
    "\n",
    "    # Displaying the custom legend underneath the chart\n",
    "    plt.legend(handles=legend_elements, loc='upper center', bbox_to_anchor=(0.5, -0.1), shadow=True, ncol=3,fontsize=15)\n",
    "\n",
    "    fig.savefig(\"injuries_rest.png\",dpi=800,bbox_inches='tight')\n",
    "    plt.show()"
   ]
  }
 ],
 "metadata": {
  "kernelspec": {
   "display_name": "Python 3 (ipykernel)",
   "language": "python",
   "name": "python3"
  },
  "language_info": {
   "codemirror_mode": {
    "name": "ipython",
    "version": 3
   },
   "file_extension": ".py",
   "mimetype": "text/x-python",
   "name": "python",
   "nbconvert_exporter": "python",
   "pygments_lexer": "ipython3",
   "version": "3.8.15"
  }
 },
 "nbformat": 4,
 "nbformat_minor": 5
}
