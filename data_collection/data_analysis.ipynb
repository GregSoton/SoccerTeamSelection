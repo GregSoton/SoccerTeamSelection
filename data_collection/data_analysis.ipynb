{
 "cells": [
  {
   "cell_type": "markdown",
   "id": "5ab5c7ec-9e77-411f-9535-f2da7443d544",
   "metadata": {},
   "source": [
    "# Player Injury Data Analysis - Section 4\n",
    "Take injury and in-game feature sets of players to predict probability of injury in an upcoming game\n",
    "\n",
    "This notebook assesses and visualises the impact of features on injury probability"
   ]
  },
  {
   "cell_type": "code",
   "execution_count": null,
   "id": "49691adf-fd0a-4f72-a9ba-f9d6806b9b0b",
   "metadata": {},
   "outputs": [],
   "source": [
    "import pandas as pd\n",
    "import category_encoders as ce\n",
    "from datetime import datetime\n",
    "import seaborn as sns\n",
    "import matplotlib.pyplot as plt\n",
    "from geopy.distance import distance as latlongdist\n",
    "import os"
   ]
  },
  {
   "cell_type": "code",
   "execution_count": null,
   "id": "7ca5bbcf-4d7c-45f0-9d08-c95c47f0c2ca",
   "metadata": {},
   "outputs": [],
   "source": [
    "os.chdir(\"..\")\n",
    "player_df = pd.read_csv('data/overview_data/all_players.csv')\n",
    "games_df = pd.read_csv('data/overview_data/games_data.csv')\n",
    "weather_df = pd.read_csv('data/overview_data/weather_data.csv')\n",
    "player_bio_df = pd.read_csv('data/overview_data/player_bios.csv')"
   ]
  },
  {
   "cell_type": "code",
   "execution_count": null,
   "id": "16477ce4-d06a-4d73-89fd-d319a2dd62c6",
   "metadata": {},
   "outputs": [],
   "source": [
    "def get_weather_data(date, team_id):\n",
    "    weather = weather_df[(weather_df['game_date'] == date) & ((weather_df['home_team_id'] == team_id) | (weather_df['away_team_id'] == team_id))]\n",
    "    weather = weather[['attendance', 'latitude','longitude', 'elevation', 'temp', 'snow', 'windspeedMiles','winddirDegree', 'weatherCode', 'precipMM', 'humidity', 'visibility','pressure', 'cloudcover', 'HeatIndexC', 'WindChillC', 'WindGustMiles','FeelsLikeC']]\n",
    "    team_games = weather_df[((weather_df['home_team_id'] == team_id) | (weather_df['away_team_id'] == team_id))].sort_values('game_date').reset_index(drop=True)\n",
    "    i = team_games[team_games['game_date'] == date].index\n",
    "    if i > 0:\n",
    "        pointA = (team_games.loc[i-1,'latitude'].values[0], team_games.loc[i-1,'longitude'].values[0])\n",
    "        pointB = (team_games.loc[i,'latitude'].values[0], team_games.loc[i,'longitude'].values[0])\n",
    "        distance = latlongdist(pointA, pointB).km\n",
    "    else:\n",
    "        distance = 0\n",
    "    weather['distance'] = distance\n",
    "    weather['date'] = date\n",
    "    return weather\n",
    "    \n",
    "def get_opponent_data(date, team_id):\n",
    "    game = games_df[(games_df['game_date'] == date) & ((games_df['home_team_id'] == team_id) | (games_df['away_team_id'] == team_id))]\n",
    "    if game['home_team_id'].values[0] == team_id:\n",
    "        opponent = game['away_team_id'].values[0]\n",
    "    else:\n",
    "        opponent = game['home_team_id'].values[0]\n",
    "    opponent_df = pd.read_csv('data/team_data/'+str(opponent)+'_features.csv')\n",
    "    opponent_df = opponent_df.add_prefix('opp_')\n",
    "    opponent_df = opponent_df.rename(columns={'opp_date': 'date'})\n",
    "    opp_rolling_cols = ['opp_num_tackles', 'opp_num_fouls',\n",
    "       'opp_num_bad_touches', 'opp_num_touches', 'opp_num_dribbles',\n",
    "       'opp_num_times_tackled', 'opp_num_times_fouled','opp_goal_diff']\n",
    "    for col in opp_rolling_cols:\n",
    "        opponent_df[col] = opponent_df[col].ewm(com=0.25,min_periods=1,adjust=True).mean().shift(periods=1)#.rolling(window=5,closed='left',min_periods=1).mean()\n",
    "    opponent_series = opponent_df[opponent_df['date'] == date]\n",
    "    return opponent_series\n",
    "\n",
    "##Change csv file name for different data sources\n",
    "def get_injured_data(date, team_id, player_id):\n",
    "    game = games_df[(games_df['game_date'] == date) & ((games_df['home_team_id'] == team_id) | (games_df['away_team_id'] == team_id))]\n",
    "    injured_df = pd.read_csv('data/game_data/'+str(game['game_id'].values[0])+'/'+str(game['game_id'].values[0])+'_injured.csv')\n",
    "    injured_series = injured_df[injured_df['player_id'] == player_id]\n",
    "    injured_series = injured_series[['injured','injury_type']]\n",
    "    return injured_series\n",
    "\n",
    "#Collates all the different data aspects and put them together to form one feature set\n",
    "def get_full_player_feature_set(player_id):\n",
    "    player_data = pd.read_csv('data/player_data/'+str(player_id)+'/'+str(player_id)+'_gamefeatures_with_physical_updated.csv')\n",
    "    player_injury_data = pd.read_csv('data/player_data/'+str(player_id)+'/'+str(player_id)+'_injuryfeatures.csv')\n",
    "    merged_df = pd.merge(player_data, player_injury_data, on=['date','player_id','player_name','team_id'])\n",
    "    series_list = []\n",
    "    weather_list = []\n",
    "    for i, row in merged_df.iterrows():\n",
    "        opp_series = get_opponent_data(row['date'],row['team_id'])\n",
    "        weather_series = get_weather_data(row['date'],row['team_id'])\n",
    "        series_list.append(opp_series.squeeze())\n",
    "        weather_list.append(weather_series.squeeze())\n",
    "        \n",
    "    opp_df = pd.concat(series_list,axis=1).T\n",
    "    weather_df = pd.concat(weather_list,axis=1).T\n",
    "    merged_df = pd.merge(merged_df,opp_df, on=['date'])\n",
    "    merged_df = pd.merge(merged_df,weather_df, on=['date'])\n",
    "    injury_series = []\n",
    "    age_series = []\n",
    "    height_series = []\n",
    "    for i, row in merged_df.iterrows():\n",
    "        injury_game_data = get_injured_data(row['date'],row['team_id'],row['player_id'])\n",
    "        injury_series.append(injury_game_data.squeeze())\n",
    "        height_series.append(player_bio_df[player_bio_df['player_id'] == row['player_id']]['height'].values[0])\n",
    "        curr_date = datetime.strptime(row['date'], '%Y-%m-%d %H:%M:%S')\n",
    "        born_date = datetime.strptime(player_bio_df[player_bio_df['player_id'] == row['player_id']]['dob'].values[0], '%Y-%m-%d')\n",
    "        age = curr_date.year - born_date.year - ((curr_date.month,curr_date.day) < (born_date.month,born_date.day))\n",
    "        age_series.append(age)\n",
    "        \n",
    "    injury_game_df = pd.concat(injury_series,axis=1).T.reset_index(drop=True)\n",
    "    merged_df['height'] = height_series\n",
    "    merged_df['age'] = age_series\n",
    "    #merged_df['rolling_days_since_last_game'] = merged_df['days_since_last_game'].rolling(window=5,closed='left',min_periods=1).mean()\n",
    "    merged_df['injured'] = injury_game_df['injured'].copy()\n",
    "    merged_df['injured_type'] = injury_game_df['injury_type'].copy()\n",
    "    return merged_df"
   ]
  },
  {
   "cell_type": "code",
   "execution_count": null,
   "id": "616fd193-725d-415e-b478-9bd33193631b",
   "metadata": {},
   "outputs": [],
   "source": [
    "player_feature_df = pd.DataFrame([])\n",
    "cols_rolling = ['goal_diff','mins_played','num_tackles', 'num_fouls', 'num_bad_touches', 'num_ball_touches',\n",
    "       'num_dribbles', 'num_tackleds', 'num_fouleds']\n",
    "for p in player_df['player_id']:\n",
    "    print(player_df[player_df['player_id']==p])\n",
    "    curr_df = get_full_player_feature_set(p)\n",
    "    curr_df['opp_team_home'] = curr_df['opp_team_home'].astype(bool)\n",
    "    curr_df = curr_df.drop(['result','opp_result'], axis=1)\n",
    "    print(curr_df[['date','num_tackles','mins_played','rolling_mins_played_exp','days_diff','rolling_days_diff_exp','num_injuries']])\n",
    "    for col in cols_rolling:\n",
    "        # Calculate the rolling average of the previous 4 rows for each row in the column\n",
    "        curr_df[col] = curr_df[col].ewm(com=0.25,min_periods=1,adjust=True).mean().shift(periods=1)#.rolling(window=5,closed='left',min_periods=1).mean()\n",
    "    print(curr_df)\n",
    "    player_feature_df = pd.concat([player_feature_df, curr_df], ignore_index=True)\n",
    "player_feature_df = player_feature_df.rename(columns={'pred_dist':'dist_covered'})"
   ]
  },
  {
   "cell_type": "code",
   "execution_count": null,
   "id": "42107bb5-d5f5-4cd4-8e2d-c97a7984f20c",
   "metadata": {},
   "outputs": [],
   "source": [
    "player_feature_df[['opp_num_tackles','opp_num_fouls','opp_num_bad_touches','opp_num_touches','opp_num_dribbles','opp_num_times_tackled','opp_num_times_fouled','opp_goal_diff','opp_matches_played','opp_days_since_last_game','opp_games_in_last_month']] = player_feature_df[['opp_num_tackles','opp_num_fouls','opp_num_bad_touches','opp_num_touches','opp_num_dribbles','opp_num_times_tackled','opp_num_times_fouled','opp_goal_diff','opp_matches_played','opp_days_since_last_game','opp_games_in_last_month']].astype(float)"
   ]
  },
  {
   "cell_type": "markdown",
   "id": "bd07b604-6b22-4409-86b5-2e6c60f7eb40",
   "metadata": {},
   "source": [
    "## Data Analysis\n",
    "Data has games from the 2017/18 and 2018/19 Premier League seasons"
   ]
  },
  {
   "cell_type": "markdown",
   "id": "4e429a2d-b816-4056-b24a-ab21e06f9a95",
   "metadata": {},
   "source": [
    "#### Step 1: All features"
   ]
  },
  {
   "cell_type": "code",
   "execution_count": null,
   "id": "d40f22ac-1440-4167-929d-b3d3cad8d8fd",
   "metadata": {},
   "outputs": [],
   "source": [
    "print(\"Features: \", player_feature_df.columns[:-2])\n",
    "print(\"Target Variables: \", player_feature_df.columns[-2:])"
   ]
  },
  {
   "cell_type": "markdown",
   "id": "70301cd6-515c-4c6b-80c9-70b05d98fa86",
   "metadata": {},
   "source": [
    "## Step 2: Exploring the target variable"
   ]
  },
  {
   "cell_type": "code",
   "execution_count": null,
   "id": "a36f0c75-e478-4ab2-af43-088ce41c11f8",
   "metadata": {},
   "outputs": [],
   "source": [
    "player_feature_df['injured'].describe()"
   ]
  },
  {
   "cell_type": "code",
   "execution_count": null,
   "id": "eb4330d6-77a3-482d-bacd-06f6b753d20e",
   "metadata": {},
   "outputs": [],
   "source": [
    "player_feature_df['injured'].value_counts().plot(kind='bar')\n",
    "print(player_feature_df['injured'].value_counts(normalize=True).mul(100).round(3).astype(str)+\"%\")"
   ]
  },
  {
   "cell_type": "markdown",
   "id": "a9faccd2-4953-4912-8b17-99e417a7d66a",
   "metadata": {},
   "source": [
    "## Step 3: Explore relationship between variables"
   ]
  },
  {
   "cell_type": "code",
   "execution_count": null,
   "id": "fff97ef7-a927-4732-844a-c7a5352a8b1c",
   "metadata": {},
   "outputs": [],
   "source": [
    "player_feature_df = player_feature_df[(player_feature_df['player_id'] != 3599) & (player_feature_df['player_id'] != 3702) & (player_feature_df['player_id'] != 3601)]\n",
    "fig, axes = plt.subplots(11, 4, figsize=(20,40))\n",
    "plt.rc('font', size=12)\n",
    "ax = sns.boxplot(x=\"injured\", y=\"mins_played\", data=player_feature_df, orient='v', \n",
    "    ax=axes[0, 0])\n",
    "ax = sns.boxplot(x=\"injured\", y=\"matches_played\", data=player_feature_df, orient='v', \n",
    "    ax=axes[0, 1])\n",
    "ax = sns.boxplot(x=\"injured\", y=\"num_tackles\", data=player_feature_df, orient='v', \n",
    "    ax=axes[0, 2])\n",
    "ax = sns.boxplot(x=\"injured\", y=\"num_fouls\", data=player_feature_df, orient='v', \n",
    "    ax=axes[0, 3])\n",
    "ax = sns.boxplot(x=\"injured\", y=\"num_bad_touches\", data=player_feature_df, orient='v', \n",
    "    ax=axes[1, 0])\n",
    "ax = sns.boxplot(x=\"injured\", y=\"num_ball_touches\", data=player_feature_df, orient='v', \n",
    "    ax=axes[1, 1])\n",
    "ax = sns.boxplot(x=\"injured\", y=\"num_dribbles\", data=player_feature_df, orient='v', \n",
    "    ax=axes[1, 2])\n",
    "ax = sns.boxplot(x=\"injured\", y=\"num_tackleds\", data=player_feature_df, orient='v', \n",
    "    ax=axes[1, 3])\n",
    "ax = sns.boxplot(x=\"injured\", y=\"num_fouleds\", data=player_feature_df, orient='v', \n",
    "    ax=axes[2, 0])\n",
    "ax = sns.boxplot(x=\"injured\", y=\"days_diff\", data=player_feature_df, orient='v', \n",
    "    ax=axes[2, 1])\n",
    "ax = sns.boxplot(x=\"injured\", y=\"rolling_mins_played_exp\", data=player_feature_df, orient='v', \n",
    "    ax=axes[2, 2])\n",
    "ax = sns.boxplot(x=\"injured\", y=\"num_injuries\", data=player_feature_df, orient='v', \n",
    "    ax=axes[2, 3])\n",
    "ax = sns.boxplot(x=\"injured\", y=\"total_days_out\", data=player_feature_df, orient='v', \n",
    "    ax=axes[3, 0])\n",
    "ax = sns.boxplot(x=\"injured\", y=\"total_games_missed\", data=player_feature_df, orient='v', \n",
    "    ax=axes[3, 1])\n",
    "ax = sns.boxplot(x=\"injured\", y=\"days_since_last_injury\", data=player_feature_df, orient='v', \n",
    "    ax=axes[3, 2])\n",
    "ax = sns.boxplot(x=\"injured\", y=\"days_out_last_injury\", data=player_feature_df, orient='v', \n",
    "    ax=axes[3, 3])\n",
    "ax = sns.boxplot(x=\"injured\", y=\"games_missed_last_injury\", data=player_feature_df, orient='v', \n",
    "    ax=axes[4, 0])\n",
    "ax = sns.boxplot(x=\"injured\", y=\"frequency_most_prominent_injury\", data=player_feature_df, orient='v', \n",
    "    ax=axes[4, 1])\n",
    "ax = sns.boxplot(x=\"injured\", y=\"days_out_most_prominent_injury\", data=player_feature_df, orient='v', \n",
    "    ax=axes[4, 2])\n",
    "ax = sns.boxplot(x=\"injured\", y=\"games_missed_most_prominent_injury\", data=player_feature_df, orient='v', \n",
    "    ax=axes[4, 3])\n",
    "ax = sns.boxplot(x=\"injured\", y=\"days_since_most_prominent_injury\", data=player_feature_df, orient='v', \n",
    "    ax=axes[5, 0])\n",
    "ax = sns.boxplot(x=\"injured\", y=\"days_out_most_serious_injury\", data=player_feature_df, orient='v', \n",
    "    ax=axes[5, 1])\n",
    "ax = sns.boxplot(x=\"injured\", y=\"games_missed_most_serious_injury\", data=player_feature_df, orient='v', \n",
    "    ax=axes[5, 2])\n",
    "ax = sns.boxplot(x=\"injured\", y=\"days_since_most_serious_injury\", data=player_feature_df, orient='v', \n",
    "    ax=axes[5, 3])\n",
    "ax = sns.boxplot(x=\"injured\", y=\"injuries_past_three_months\", data=player_feature_df, orient='v', \n",
    "    ax=axes[6, 0])\n",
    "ax = sns.boxplot(x=\"injured\", y=\"injuries_past_six_months\", data=player_feature_df, orient='v', \n",
    "    ax=axes[6, 1])\n",
    "ax = sns.boxplot(x=\"injured\", y=\"injuries_past_twelve_months\", data=player_feature_df, orient='v', \n",
    "    ax=axes[6, 2])\n",
    "ax = sns.boxplot(x=\"injured\", y=\"rolling_days_diff_exp\", data=player_feature_df, orient='v', \n",
    "    ax=axes[6, 3])\n",
    "ax = sns.boxplot(x=\"injured\", y=\"opp_num_tackles\", data=player_feature_df, orient='v', \n",
    "    ax=axes[7, 0])\n",
    "ax = sns.boxplot(x=\"injured\", y=\"opp_num_fouls\", data=player_feature_df, orient='v', \n",
    "    ax=axes[7, 1])\n",
    "ax = sns.boxplot(x=\"injured\", y=\"opp_num_bad_touches\", data=player_feature_df, orient='v', \n",
    "    ax=axes[7, 2])\n",
    "ax = sns.boxplot(x=\"injured\", y=\"opp_num_touches\", data=player_feature_df, orient='v', \n",
    "    ax=axes[7, 3])\n",
    "ax = sns.boxplot(x=\"injured\", y=\"distance\", data=player_feature_df, orient='v', \n",
    "    ax=axes[8, 0])\n",
    "ax = sns.boxplot(x=\"injured\", y=\"temp\", data=player_feature_df, orient='v', \n",
    "    ax=axes[8, 1])\n",
    "ax = sns.boxplot(x=\"injured\", y=\"windspeedMiles\", data=player_feature_df, orient='v', \n",
    "    ax=axes[8, 2])\n",
    "ax = sns.boxplot(x=\"injured\", y=\"humidity\", data=player_feature_df, orient='v', \n",
    "    ax=axes[8, 3])\n",
    "ax = sns.boxplot(x=\"injured\", y=\"dist_covered\", data=player_feature_df, orient='v', \n",
    "    ax=axes[9, 0])\n",
    "ax = sns.boxplot(x=\"injured\", y=\"num_hirs\", data=player_feature_df, orient='v', \n",
    "    ax=axes[9, 1])\n",
    "ax = sns.boxplot(x=\"injured\", y=\"num_sprints\", data=player_feature_df, orient='v', \n",
    "    ax=axes[9, 2])\n",
    "ax = sns.boxplot(x=\"injured\", y=\"accels\", data=player_feature_df, orient='v', \n",
    "    ax=axes[9, 3])\n",
    "ax = sns.boxplot(x=\"injured\", y=\"acute_workload\", data=player_feature_df, orient='v', \n",
    "    ax=axes[10, 0])\n",
    "ax = sns.boxplot(x=\"injured\", y=\"chronic_workload\", data=player_feature_df, orient='v', \n",
    "    ax=axes[10, 1])\n",
    "ax = sns.boxplot(x=\"injured\", y=\"ACWR\", data=player_feature_df, orient='v', \n",
    "    ax=axes[10, 2])\n",
    "ax = sns.boxplot(x=\"injured\", y=\"decels\", data=player_feature_df, orient='v', \n",
    "    ax=axes[10, 3])\n",
    "fig.tight_layout()"
   ]
  },
  {
   "cell_type": "code",
   "execution_count": null,
   "id": "72851bcb-9ba0-4505-ad2b-2ace5a39ae2e",
   "metadata": {},
   "outputs": [],
   "source": [
    "player_feature_df['injured'] = player_feature_df['injured'].astype(int)"
   ]
  },
  {
   "cell_type": "code",
   "execution_count": null,
   "id": "0547b05f-465c-46b2-b523-d322c2018580",
   "metadata": {},
   "outputs": [],
   "source": [
    "pp = sns.pairplot(player_feature_df[['dist_covered', 'metres_per_min', 'hir_dist',\n",
    "       'sprint_dist', 'num_hirs', 'num_sprints', 'accels', 'decels',\n",
    "       'LI_accels', 'LI_decels', 'acute_workload', 'chronic_workload', 'ACWR','injured']],kind='reg', plot_kws={'line_kws':{'color':'red'}})\n",
    "for ax in pp.axes.flat:\n",
    "    if ax.get_ylabel() == 'injured':\n",
    "        ax.set_ylim([0, 0.2])"
   ]
  },
  {
   "cell_type": "code",
   "execution_count": null,
   "id": "0ea6e495-49a5-4e23-a344-9ad90cb91b7d",
   "metadata": {},
   "outputs": [],
   "source": [
    "pp = sns.pairplot(player_feature_df[['num_tackles',\n",
    "       'num_fouls', 'num_bad_touches', 'num_ball_touches', 'num_dribbles',\n",
    "       'num_tackleds', 'num_fouleds', 'injured']],kind='reg', plot_kws={'line_kws':{'color':'red'}})\n",
    "for ax in pp.axes.flat:\n",
    "    if ax.get_ylabel() == 'injured':\n",
    "        ax.set_ylim([0, 0.2])"
   ]
  },
  {
   "cell_type": "code",
   "execution_count": null,
   "id": "538c7be1-136a-4bb3-af7b-8df0be69ac92",
   "metadata": {},
   "outputs": [],
   "source": [
    "pp = sns.pairplot(player_feature_df[['num_injuries', 'total_days_out',\n",
    "       'total_games_missed', 'days_since_last_injury', 'days_out_last_injury', 'rolling_days_since_last_game_exp','rolling_mins_played_exp', 'injured']],kind='reg', plot_kws={'line_kws':{'color':'red'}})\n",
    "for ax in pp.axes.flat:\n",
    "    if ax.get_ylabel() == 'injured':\n",
    "        ax.set_ylim([0, 0.2])"
   ]
  },
  {
   "cell_type": "code",
   "execution_count": null,
   "id": "2fb5ce02-fc43-4797-aeeb-62f73b0eb55c",
   "metadata": {},
   "outputs": [],
   "source": [
    "player_feature_df[['distance','temp','humidity', 'attendance', 'visibility']] = player_feature_df[['distance','temp','humidity', 'attendance', 'visibility']].astype(float)"
   ]
  },
  {
   "cell_type": "code",
   "execution_count": null,
   "id": "e291dc5d-9e26-4719-b057-997469313b84",
   "metadata": {},
   "outputs": [],
   "source": [
    "pp = sns.pairplot(player_feature_df[['distance','temp','humidity', 'attendance', 'visibility', 'height','age','injured']],kind='reg', plot_kws={'line_kws':{'color':'red'}})\n",
    "for ax in pp.axes.flat:\n",
    "    if ax.get_ylabel() == 'injured':\n",
    "        ax.set_ylim([0, 0.2])"
   ]
  },
  {
   "cell_type": "code",
   "execution_count": null,
   "id": "9caa8952-434b-4985-a488-0e82ef576f72",
   "metadata": {},
   "outputs": [],
   "source": [
    "pp = sns.pairplot(player_feature_df[['frequency_most_prominent_injury', 'days_out_most_prominent_injury',\n",
    "       'games_missed_most_prominent_injury',\n",
    "       'days_since_most_prominent_injury', 'days_out_most_serious_injury',\n",
    "       'games_missed_most_serious_injury',\n",
    "       'days_since_most_serious_injury', 'injured']], kind='reg', plot_kws={'line_kws':{'color':'red'}})\n",
    "for ax in pp.axes.flat:\n",
    "    if ax.get_ylabel() == 'injured':\n",
    "        ax.set_ylim([0, 0.2])"
   ]
  },
  {
   "cell_type": "code",
   "execution_count": null,
   "id": "93713342-1f53-4205-a661-fd108ac46ea7",
   "metadata": {},
   "outputs": [],
   "source": [
    "pp = sns.pairplot(player_feature_df[['injuries_past_three_months',\n",
    "       'injuries_past_six_months', 'injuries_past_twelve_months', 'days_since_last_game',\n",
    "       'rolling_days_since_last_game_exp','injured']], kind='reg', plot_kws={'line_kws':{'color':'red'}})\n",
    "for ax in pp.axes.flat:\n",
    "    if ax.get_ylabel() == 'injured':\n",
    "        ax.set_ylim([0, 0.2])"
   ]
  },
  {
   "cell_type": "code",
   "execution_count": null,
   "id": "86d677cc-c2c8-40de-8534-ceb1e83999db",
   "metadata": {},
   "outputs": [],
   "source": [
    "pp = sns.pairplot(player_feature_df[['opp_num_tackles', 'opp_num_fouls',\n",
    "       'opp_num_bad_touches', 'opp_num_touches', 'opp_num_dribbles',\n",
    "       'opp_num_times_tackled', 'opp_num_times_fouled', 'injured']],kind='reg',plot_kws={'line_kws':{'color':'red'}})\n",
    "for ax in pp.axes.flat:\n",
    "    if ax.get_ylabel() == 'injured':\n",
    "        ax.set_ylim([0, 0.2])"
   ]
  },
  {
   "cell_type": "code",
   "execution_count": null,
   "id": "e8b98d77-3782-414f-97e6-c881758a3157",
   "metadata": {},
   "outputs": [],
   "source": [
    "pp = sns.pairplot(player_feature_df[['opp_goal_diff','opp_matches_played', 'opp_days_since_last_game','opp_games_in_last_month', 'injured']],kind='reg',plot_kws={'line_kws':{'color':'red'}})\n",
    "for ax in pp.axes.flat:\n",
    "    if ax.get_ylabel() == 'injured':\n",
    "        ax.set_ylim([0, 0.2])"
   ]
  },
  {
   "cell_type": "code",
   "execution_count": null,
   "id": "82aeab1c-e5cb-4ce1-bb31-d64050ddd80e",
   "metadata": {},
   "outputs": [],
   "source": [
    "player_feature_df.corr()"
   ]
  },
  {
   "cell_type": "markdown",
   "id": "4ad7821b-5753-4423-9005-4a94a02e439d",
   "metadata": {},
   "source": [
    "## PCA"
   ]
  },
  {
   "cell_type": "code",
   "execution_count": null,
   "id": "d8fdb0be-158e-4e86-8da2-66055c310585",
   "metadata": {},
   "outputs": [],
   "source": [
    "from sklearn.preprocessing import StandardScaler\n",
    "player_feature_df_wonan = player_feature_df[player_feature_df.columns[:-1]].dropna()\n",
    "X=player_feature_df_wonan[['goal_diff',\n",
    "       'mins_played', 'matches_played', 'num_tackles',\n",
    "       'num_fouls', 'num_bad_touches', 'num_ball_touches', 'num_dribbles',\n",
    "       'num_tackleds', 'num_fouleds', 'days_since_last_game','num_injuries', 'total_days_out',\n",
    "       'total_games_missed', 'days_since_last_injury', 'days_out_last_injury',\n",
    "       'games_missed_last_injury',\n",
    "       'frequency_most_prominent_injury', 'days_out_most_prominent_injury',\n",
    "       'games_missed_most_prominent_injury', \n",
    "       'days_since_most_prominent_injury', 'days_out_most_serious_injury',\n",
    "       'games_missed_most_serious_injury', \n",
    "       'days_since_most_serious_injury', 'injuries_past_three_months',\n",
    "       'injuries_past_six_months', 'injuries_past_twelve_months',\n",
    "        'opp_num_tackles', 'opp_num_fouls',\n",
    "       'opp_num_bad_touches', 'opp_num_touches', 'opp_num_dribbles',\n",
    "       'opp_num_times_tackled', 'opp_num_times_fouled', 'opp_goal_diff',\n",
    "       'opp_matches_played', 'opp_days_since_last_game','dist_covered','sprint_dist','accels','decels','hir_dist']]\n",
    "y=player_feature_df_wonan[player_feature_df_wonan.columns[-1]]\n",
    "x_scaled = StandardScaler().fit_transform(X)"
   ]
  },
  {
   "cell_type": "code",
   "execution_count": null,
   "id": "36f1f50e-6ce3-47eb-a394-f5e0b911d36c",
   "metadata": {},
   "outputs": [],
   "source": [
    "from sklearn.decomposition import PCA\n",
    " \n",
    "pca = PCA(n_components=5)\n",
    " \n",
    "pca_features = pca.fit_transform(x_scaled)\n",
    " \n",
    "print('Shape before PCA: ', x_scaled.shape)\n",
    "print('Shape after PCA: ', pca_features.shape)\n",
    " \n",
    "pca_df = pd.DataFrame(\n",
    "    data=pca_features)"
   ]
  },
  {
   "cell_type": "code",
   "execution_count": null,
   "id": "455fa3df-44d6-4b59-a10c-01387879b293",
   "metadata": {},
   "outputs": [],
   "source": [
    "pca.explained_variance_"
   ]
  },
  {
   "cell_type": "code",
   "execution_count": null,
   "id": "94ae94e7-b46f-49db-9948-b6e361b1c325",
   "metadata": {},
   "outputs": [],
   "source": [
    "# Principal components correlation coefficients\n",
    "loadings = pca.components_\n",
    " \n",
    "# Number of features before PCA\n",
    "n_features = pca.n_features_\n",
    " \n",
    "# Feature names before PCA\n",
    "feature_names = X.columns\n",
    " \n",
    "# PC names\n",
    "pc_list = [f'PC{i}' for i in list(range(1, n_features + 1))]\n",
    " \n",
    "# Match PC names to loadings\n",
    "pc_loadings = dict(zip(pc_list, loadings))\n",
    " \n",
    "# Matrix of corr coefs between feature names and PCs\n",
    "loadings_df = pd.DataFrame.from_dict(pc_loadings)\n",
    "loadings_df['feature_names'] = feature_names\n",
    "loadings_df = loadings_df.set_index('feature_names')\n",
    "loadings_df\n",
    "\n",
    "abs_loadings = abs(loadings_df)\n",
    "for pc in pc_loadings:\n",
    "    print(\"Top 5 most influential variables for \" + pc + \": \")\n",
    "    print(abs_loadings.sort_values(pc, ascending=False).index[:5])"
   ]
  }
 ],
 "metadata": {
  "kernelspec": {
   "display_name": "Python 3 (ipykernel)",
   "language": "python",
   "name": "python3"
  },
  "language_info": {
   "codemirror_mode": {
    "name": "ipython",
    "version": 3
   },
   "file_extension": ".py",
   "mimetype": "text/x-python",
   "name": "python",
   "nbconvert_exporter": "python",
   "pygments_lexer": "ipython3",
   "version": "3.8.15"
  }
 },
 "nbformat": 4,
 "nbformat_minor": 5
}
