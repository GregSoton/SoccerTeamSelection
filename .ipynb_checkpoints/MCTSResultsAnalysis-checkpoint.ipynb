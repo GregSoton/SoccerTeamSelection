{
 "cells": [
  {
   "cell_type": "markdown",
   "id": "15c58151-bae5-42c1-b86e-d1de0a47c154",
   "metadata": {},
   "source": [
    "# Retrieve Injury Rates of MCTS Season Simulations \n",
    "\n",
    "(Files from compute cluster runs)"
   ]
  },
  {
   "cell_type": "code",
   "execution_count": null,
   "id": "48c4945a-0c6d-445d-aa1a-69301da3d3d2",
   "metadata": {},
   "outputs": [],
   "source": [
    "import pandas as pd\n",
    "import os\n",
    "import numpy as np\n",
    "import MDP_Team.MDP as MDP\n",
    "from statistics import quantiles"
   ]
  },
  {
   "cell_type": "code",
   "execution_count": null,
   "id": "53b5d6a5-695c-46e2-b2dc-3bb6c247c429",
   "metadata": {},
   "outputs": [],
   "source": [
    "team_id = 58\n",
    "team_directory = 'MCTS_Results/'+str(team_id)\n",
    "files = os.listdir(team_directory)\n",
    "team_squad = pd.read_csv('MDP_Team/Team_squads/'+str(team_id)+'.csv')\n",
    "squad_player_ids = team_squad['player_name'].values\n",
    "#team_rewards = pd.read_csv('MDP_Team/Team_rewards/'+str(team_id)+'.csv')"
   ]
  },
  {
   "cell_type": "code",
   "execution_count": null,
   "id": "27a29ec9-cfd4-4e0f-b4ed-f4f13aa024e7",
   "metadata": {},
   "outputs": [],
   "source": [
    "positions = [[1,2,3,4],[5,6],[7,8],[9,10,11,12,13],[14,15],[16,17],[18,19]]\n",
    "counts = [2,1,1,3,1,1,1]\n",
    "\n",
    "def greedy_selection(selection_list, player_vaeps, num_selections, injury_dict):\n",
    "    total_val = 0\n",
    "    \n",
    "    new_selection_list = []\n",
    "    for i in range(len(selection_list)):\n",
    "        if injury_dict[selection_list[i]] == False:\n",
    "            new_selection_list.append(selection_list[i])\n",
    "    \n",
    "    while len(new_selection_list) < num_selections:\n",
    "        new_selection_list.append(20)\n",
    "            \n",
    "    selection_values = player_vaeps[new_selection_list]\n",
    "    max_indexes = np.argsort(selection_values)[-num_selections:]\n",
    "    return [new_selection_list[i]-1 for i in sorted(max_indexes)]"
   ]
  },
  {
   "cell_type": "code",
   "execution_count": null,
   "id": "32975ae9-9229-4e4c-9738-1c5bf22235f4",
   "metadata": {},
   "outputs": [],
   "source": [
    "optimal_team_index=[]\n",
    "dictionary = {key:False for key in range(1,20)}\n",
    "squad_vaep = team_squad['vaep'].values\n",
    "for p,c in zip(positions,counts):\n",
    "    optimal_team_index += greedy_selection(p,squad_vaep,c,dictionary)"
   ]
  },
  {
   "cell_type": "code",
   "execution_count": null,
   "id": "cabf5203-6e73-47d3-8f12-e5a0569e1d68",
   "metadata": {},
   "outputs": [],
   "source": [
    "starting_injuries_all = []\n",
    "all_injuries_all = []\n",
    "for f in files:\n",
    "    try:\n",
    "        team_df = pd.read_csv('MCTS_Results/'+str(team_id)+'/'+f)\n",
    "        injury_changes = team_df.iloc[:,21:40].diff().fillna(0)\n",
    "        injury_changes.columns = range(1,20)\n",
    "        all_injuries = (injury_changes > 0).sum().sum()\n",
    "        starting_index = optimal_team_index\n",
    "        starting_injuries = injury_changes.iloc[:,starting_index]\n",
    "        starting_inj_number = (starting_injuries>0).sum().sum()\n",
    "        #starting_injuries_all.append(starting_inj_number)\n",
    "        #all_injuries_all.append(all_injuries) \n",
    "        starting_injuries_all.append(starting_inj_number)\n",
    "        all_injuries_all.append(all_injuries) \n",
    "    except:\n",
    "        continue"
   ]
  },
  {
   "cell_type": "code",
   "execution_count": null,
   "id": "35fb9fb0-44ed-47a3-ad97-aeb97165f5e6",
   "metadata": {},
   "outputs": [],
   "source": [
    "print(\"Total injuries: \", np.array(all_injuries_all).mean())\n",
    "print(\"First Team injuries: \", np.array(starting_injuries_all).mean())"
   ]
  },
  {
   "cell_type": "code",
   "execution_count": null,
   "id": "8f460c75-074f-4d09-86a9-64db66119676",
   "metadata": {},
   "outputs": [],
   "source": [
    "print(\"Total injuries: \", np.percentile(np.array(all_injuries_all),25,method='linear'))\n",
    "print(\"First Team injuries: \", np.percentile(np.array(starting_injuries_all),25,method='linear'))"
   ]
  },
  {
   "cell_type": "code",
   "execution_count": null,
   "id": "055f5a0a-8cd2-46ec-8bb6-8c347bdc92ef",
   "metadata": {},
   "outputs": [],
   "source": [
    "print(\"Total injuries: \", np.percentile(np.array(all_injuries_all),75,method='linear'))\n",
    "print(\"First Team injuries: \", np.percentile(np.array(starting_injuries_all),75,method='linear'))"
   ]
  }
 ],
 "metadata": {
  "kernelspec": {
   "display_name": "Python 3 (ipykernel)",
   "language": "python",
   "name": "python3"
  },
  "language_info": {
   "codemirror_mode": {
    "name": "ipython",
    "version": 3
   },
   "file_extension": ".py",
   "mimetype": "text/x-python",
   "name": "python",
   "nbconvert_exporter": "python",
   "pygments_lexer": "ipython3",
   "version": "3.8.15"
  }
 },
 "nbformat": 4,
 "nbformat_minor": 5
}
