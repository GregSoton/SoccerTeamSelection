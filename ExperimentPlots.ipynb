{
 "cells": [
  {
   "cell_type": "markdown",
   "id": "468f7a60-1793-4d9a-8fcb-c79ff620c892",
   "metadata": {},
   "source": [
    "# Experiment Plots - Section 6"
   ]
  },
  {
   "cell_type": "code",
   "execution_count": null,
   "id": "ff23a0c2-4193-4d0c-8026-4629cd8b5777",
   "metadata": {},
   "outputs": [],
   "source": [
    "import matplotlib.pyplot as plt\n",
    "import seaborn as sns\n",
    "from matplotlib import rcParams\n",
    "\n",
    "# figure size in inches\n",
    "#rcParams['figure.figsize'] = 6.2,3.17"
   ]
  },
  {
   "cell_type": "markdown",
   "id": "05ecd56f-2fe9-4fa5-8a69-2164198a0c3c",
   "metadata": {},
   "source": [
    "## Paper Experiment 1"
   ]
  },
  {
   "cell_type": "code",
   "execution_count": null,
   "id": "391eebf1-8740-4fdf-8345-ecf96ce468c4",
   "metadata": {},
   "outputs": [],
   "source": [
    "injuries_df = pd.read_csv('predictions/injury_predictions_XGB.csv')\n",
    "injuries_df['date'] = pd.to_datetime(injuries_df['date'],format='%Y-%m-%d %H:%M:%S')\n",
    "teams = pd.read_csv('overview_data/teams.csv')\n",
    "team_ids = sorted(teams['team_id'].values)\n",
    "\n",
    "injureds=[]\n",
    "injured_probs=[]\n",
    "for team_id in team_ids:\n",
    "    print(team_id)\n",
    "    if team_id in [30,26,27,46,55,58]:\n",
    "        team_injuries = injuries_df[injuries_df['team_id']==team_id]\n",
    "        injureds.append(team_injuries['injured'].sum())\n",
    "        injured_probs.append(team_injuries['injury_prob'].sum())\n",
    "    else:\n",
    "        team_injuries = injuries_df[injuries_df['team_id']==team_id]\n",
    "        injureds.append(team_injuries['injured'].sum()/2)\n",
    "        injured_probs.append(team_injuries['injury_prob'].sum()/2)"
   ]
  },
  {
   "cell_type": "code",
   "execution_count": null,
   "id": "a630965e-a5bc-491e-b054-53f608e57536",
   "metadata": {},
   "outputs": [],
   "source": [
    "plt.style.reload_library()\n",
    "plt.style.use(['science','no-latex'])\n",
    "rcParams['figure.figsize'] = 6.6,3.17\n",
    "plt.gcf()\n",
    "with plt.style.context(['science','no-latex','bright']):\n",
    "    rplot = sns.regplot(x=injureds, y=injured_probs,scatter_kws={'s':50})\n",
    "    rplot.set_xlabel('Actual number of injuries per Season',size=15)\n",
    "    rplot.set_ylabel('Expected injuries per season',size=15)\n",
    "    rplot.set_xticks([10,15,20,25,30],size=15)\n",
    "    rplot.set_yticks([10,15,20,25,30],size=15)\n",
    "    rplot.set_yticklabels(rplot.get_yticks(), size = 15)\n",
    "    rplot.set_xticklabels(rplot.get_xticks(), size = 15)\n",
    "    rplot.set_ylim(10,31)\n",
    "    rplot.set_xlim(10,31)\n",
    "    rplot.text(11, 29, 'r={:.2f}, p={:.2g}'.format(0.76957, 0.0000727),size=15)\n",
    "    plt.show()\n",
    "    fig = rplot.get_figure()\n",
    "    fig.savefig(\"injuries_correlation.png\",dpi=800,bbox_inches='tight') "
   ]
  },
  {
   "cell_type": "code",
   "execution_count": null,
   "id": "41ae1ab8-cd77-40aa-a44b-c02cfe6a8776",
   "metadata": {},
   "outputs": [],
   "source": [
    "slope, intercept, r, p, sterr = scipy.stats.linregress(x=injureds,\n",
    "                                                       y=injured_probs)\n",
    "p"
   ]
  },
  {
   "cell_type": "markdown",
   "id": "124b0a95-3d96-4aa4-af0d-366d436f5848",
   "metadata": {},
   "source": [
    "## Paper Experiment 2\n",
    "MCTS similarities and Greedy similarities were logged in a spreadsheet following runs on compute cluster"
   ]
  },
  {
   "cell_type": "code",
   "execution_count": null,
   "id": "b504069d-6639-474b-b2a9-5de244e78fb8",
   "metadata": {},
   "outputs": [],
   "source": [
    "plt.gcf()\n",
    "fig, ax = plt.subplots(figsize=(5,2))\n",
    "similarity_data_MCTS = [77.8,81.0,71.8,81.8,72.7,74.1,71.4,78.3,86.1,70.1,76.4,80.0,78.7,70.8,81.4,74.0,76.3,81.6,74.7,71.3]\n",
    "similarity_data_Greedy = [75.5,89.8,69.8,90.8,74.1,79.3,75.1,80.5,90.8,71.4,79.5,82.1,83.5,81.8,88.1,77.9,88.3,85.3,84.0,75.5]\n",
    "boxplot_data=[similarity_data_MCTS,similarity_data_Greedy]\n",
    "boxplot = ax.boxplot(boxplot_data,widths=0.5)\n",
    "boxplot['medians'][0].set(color='blue',linewidth=1.5)\n",
    "boxplot['medians'][1].set(color='blue',linewidth=1.5)\n",
    "for component in boxplot.keys():\n",
    "    if component != 'medians':\n",
    "        plt.setp(boxplot[component], linewidth=1.5)\n",
    "ax.set_xticks([1,2],labels=['MCTS','Greedy'])\n",
    "ax.set_ylabel('Similarity (%)')\n",
    "ax.set_ylim(60,100)\n",
    "plt.show()\n",
    "fig.savefig('similarity_boxplot.png',dpi=800,bbox_inches='tight')"
   ]
  },
  {
   "cell_type": "markdown",
   "id": "e8167dc8-93a6-438d-b4f9-f8bd868f8b4c",
   "metadata": {},
   "source": [
    "## Paper Experiment 3\n",
    "MCTS and Greedy Results logged in a spreadsheet following runs on a compute cluster"
   ]
  },
  {
   "cell_type": "code",
   "execution_count": null,
   "id": "01c26616-3f9b-476c-bbbd-bb0bcefab850",
   "metadata": {},
   "outputs": [],
   "source": [
    "import numpy as np\n",
    "import matplotlib.pyplot as plt\n",
    "plt.style.reload_library()\n",
    "plt.style.use(['science','no-latex'])\n",
    "with plt.style.context(['science','no-latex','bright']):\n",
    "    fig = plt.figure(figsize=(7.5,5.5))\n",
    "\n",
    "    plt.subplot(2, 1, 1)\n",
    "\n",
    "    N = 2\n",
    "    ind = np.arange(N) \n",
    "    width = 0.25\n",
    "\n",
    "    xvals = [-0.5, 1.8]\n",
    "    bar1 = plt.bar(ind-width, xvals, width, yerr=[1.3,1.6], capsize=14.5, color = 'grey')\n",
    "\n",
    "    yvals = [1.3, 2.8]\n",
    "    bar2 = plt.bar(ind, yvals, width, yerr=[0.7,1.0], capsize=14.5, color='blue')\n",
    "\n",
    "    zvals = [1.8, 2.7]\n",
    "    bar3 = plt.bar(ind+width, zvals, width, yerr=[0.6,0.7], capsize=14.5, color = 'orange')\n",
    "\n",
    "    plt.ylabel('% Increase vs Greedy',size=14.8)\n",
    "    plt.axhline(y=0, color='k', linestyle='--',alpha=0.2)\n",
    "    plt.xticks(ind,['Mean Performance', 'Lower Quartile Performance'], size=14.5)\n",
    "    plt.yticks([-2,0,2,4],size=14.5)\n",
    "    plt.ylim(-2,5)\n",
    "    plt.legend( (bar1, bar2, bar3), ('1x', '2x', '3x'), fontsize=\"14.5\" )\n",
    "\n",
    "    N = 2\n",
    "    ind = np.arange(N) \n",
    "    width = 0.25\n",
    "\n",
    "    plt.subplot(2, 1, 2)\n",
    "    xvals = [4.6, 13.1]\n",
    "    bar1 = plt.bar(ind-width, xvals, width, yerr=[1.3,1.3], capsize=14.5, color = 'grey')\n",
    "\n",
    "    yvals = [1.3, 11.4]\n",
    "    bar2 = plt.bar(ind, yvals, width, yerr=[0.9,1.0], capsize=14.5, color='blue')\n",
    "\n",
    "    zvals = [-0.2, 8.6]\n",
    "    bar3 = plt.bar(ind+width, zvals, width, yerr=[0.6,1.2], capsize=14.5, color = 'orange')\n",
    "\n",
    "    plt.ylabel('% Decrease vs Greedy',size=14.8)\n",
    "    plt.axhline(y=0, color='k', linestyle='--',alpha=0.2)\n",
    "    plt.xticks(ind,['Mean Squad Injuries','Mean Optimal Team Injuries'], size=14.5) \n",
    "    plt.yticks([0,5,10,15],size=14.5)\n",
    "    plt.ylim(-2,15)\n",
    "    plt.axhline(y=0, color='k', linestyle='--',alpha=0.2)\n",
    "    #plt.legend( (bar1, bar2, bar3), ('1x', '2x','3x') )\n",
    "    plt.show()\n",
    "    fig.savefig('Robustness.png',dpi=800)"
   ]
  },
  {
   "cell_type": "code",
   "execution_count": null,
   "id": "b52d7a9f-0563-4168-9f78-4317fff382d8",
   "metadata": {},
   "outputs": [],
   "source": []
  }
 ],
 "metadata": {
  "kernelspec": {
   "display_name": "Python 3 (ipykernel)",
   "language": "python",
   "name": "python3"
  },
  "language_info": {
   "codemirror_mode": {
    "name": "ipython",
    "version": 3
   },
   "file_extension": ".py",
   "mimetype": "text/x-python",
   "name": "python",
   "nbconvert_exporter": "python",
   "pygments_lexer": "ipython3",
   "version": "3.8.15"
  }
 },
 "nbformat": 4,
 "nbformat_minor": 5
}
