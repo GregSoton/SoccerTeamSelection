{
 "cells": [
  {
   "cell_type": "markdown",
   "id": "b10d2b96-2fc2-4dea-890f-a5110b921109",
   "metadata": {},
   "source": [
    "# Precompute Rewards for MDP from Match Prediction Model - Sections 5 and 6"
   ]
  },
  {
   "cell_type": "code",
   "execution_count": null,
   "id": "a914dad9-9fd8-4dcb-82df-20379ced8530",
   "metadata": {},
   "outputs": [],
   "source": [
    "import pandas as pd\n",
    "import pickle\n",
    "import tqdm\n",
    "import numpy as np\n",
    "import Poisson\n",
    "import tqdm\n",
    "import os\n",
    "import json\n",
    "from itertools import combinations\n",
    "from itertools import product\n",
    "os.chdir('..')\n",
    "games = pd.read_csv('data/team_data/games_data.csv')\n",
    "teams = pd.read_csv('data/teams.csv')"
   ]
  },
  {
   "cell_type": "markdown",
   "id": "aeb30242-4eff-45f8-80ca-a42d15a4b690",
   "metadata": {},
   "source": [
    "## Function to convert team to features"
   ]
  },
  {
   "cell_type": "code",
   "execution_count": null,
   "id": "7e9c1686-c655-410a-bf55-b5bb9c553540",
   "metadata": {},
   "outputs": [],
   "source": [
    "def get_feature_set(team,player_ids,opponent,opponent_player_ids,is_home):\n",
    "    skill_cols = ['home'+str(i)+'_wr' for i in range(1,12)] + ['away'+str(i)+'_wr' for i in range(1,12)]\n",
    "    vaep_cols = ['home'+str(i)+'_vaep' for i in range(1,12)] + ['away'+str(i)+'_vaep' for i in range(1,12)]\n",
    "    all_cols = np.array([['home'+str(i)+'_wr','home'+str(i)+'_vaep'] for i in range(1,12)] + [['away'+str(i)+'_wr','away'+str(i)+'_vaep'] for i in range(1,12)]).flatten()\n",
    "    team_df = pd.read_csv('data/team_data/'+str(team)+'.csv')\n",
    "    opponent_df = pd.read_csv('data/team_data/'+str(opponent)+'.csv')\n",
    "    team_players = team_df[team_df['player_id'].isin(player_ids)]\n",
    "    opponent_players = opponent_df[opponent_df['player_id'].isin(opponent_player_ids)]\n",
    "    if is_home:\n",
    "        skills_row = pd.concat([team_players['skill'],opponent_players['skill']]).reset_index(drop=True).to_frame().T.reset_index(drop=True)\n",
    "        vaeps_row = pd.concat([team_players['vaep'],opponent_players['vaep']]).reset_index(drop=True).to_frame().T.reset_index(drop=True)\n",
    "    else:\n",
    "        skills_row = pd.concat([opponent_players['skill'],team_players['skill']]).reset_index(drop=True).to_frame().T.reset_index(drop=True)\n",
    "        vaeps_row = pd.concat([opponent_players['vaep'],team_players['vaep']]).reset_index(drop=True).to_frame().T.reset_index(drop=True)\n",
    "    skills_row.columns = skill_cols\n",
    "    vaeps_row.columns = vaep_cols\n",
    "    full_row = pd.concat([skills_row,vaeps_row],axis=1)\n",
    "    full_row = full_row.reindex(all_cols,axis=1)\n",
    "    return full_row"
   ]
  },
  {
   "cell_type": "markdown",
   "id": "bb1852d1-4071-4e8b-83be-5fc0517db5f1",
   "metadata": {},
   "source": [
    "## Get Team Combinations\n",
    "Stores the squad of players for each team. Change team id to save squad. Filter ids changes the players selected in squad. Choose players to fit the teams formation for the squad."
   ]
  },
  {
   "cell_type": "code",
   "execution_count": null,
   "id": "a3b833e7-d957-4865-bc85-bb927523377c",
   "metadata": {},
   "outputs": [],
   "source": [
    "team_ids = pd.read_csv('data/teams.csv')['team_id'].unique()\n",
    "team_ids"
   ]
  },
  {
   "cell_type": "code",
   "execution_count": null,
   "id": "cd3a5e44-6fc4-4f21-87b0-3f026b676aeb",
   "metadata": {},
   "outputs": [],
   "source": [
    "tid=39\n",
    "team_squad = pd.read_csv('data/team_data/'+str(tid)+'.csv')\n",
    "filtered_ids = [1,3,4,5,6,7,9,10,11,14,13,18,20,19,21,26,23,22,24,27]\n",
    "team_squad = team_squad.loc[filtered_ids].reset_index(drop=True)\n",
    "team_squad = team_squad.append({'player_id':0,'team_id':tid,'player_name':'Reserve','tm_id':0,'gd':0,'games_played':0,'skill':0,'position':'Reserve','vaep':-3},ignore_index=True)#[0,38,'Reserve',0,0,0,0,'Reserve',0],ignore_index=True)\n",
    "team_squad['position'] = ['Goalkeeper','Center Back','Center Back','Center Back','Center Back','Right Back','Right Back','Left Back','Left Back','Center Midfield','Center Midfield','Center Midfield','Center Midfield','Center Midfield','Right Winger','Right Winger','Left Winger','Left Winger','Striker','Striker','Reserve']\n",
    "team_squad.to_csv('data/18-19_Squad/'+str(tid)+'.csv',index=False)\n",
    "team_squad"
   ]
  },
  {
   "cell_type": "markdown",
   "id": "35e09ec7-9f3b-4ed2-9c2d-82f240436d03",
   "metadata": {},
   "source": [
    "## Get Team Average VAEP"
   ]
  },
  {
   "cell_type": "code",
   "execution_count": null,
   "id": "742690f4-6e0f-42da-896e-4724149abc84",
   "metadata": {},
   "outputs": [],
   "source": [
    "parent_path = os.path.dirname(os.getcwd())"
   ]
  },
  {
   "cell_type": "code",
   "execution_count": null,
   "id": "bd00196d-3984-4bbd-aedf-70e57fdd965f",
   "metadata": {},
   "outputs": [],
   "source": [
    "team_mean_vaeps = {}\n",
    "for tid in team_ids:\n",
    "    vaeps = []\n",
    "    team_games = games[(games['home_team_id']==tid) | (games['away_team_id']==tid)].copy().reset_index(drop=True)\n",
    "    team_vaeps = pd.read_csv('data/team_data/'+str(tid)+'.csv')\n",
    "    if len(team_games[team_games['season_id']==1]) == 0:\n",
    "        team_games = team_games[:5]\n",
    "    else:\n",
    "        team_games = team_games[team_games['season_id']==1].reset_index(drop=True)\n",
    "    for game_id in team_games['game_id']:\n",
    "        with open((parent_path+'\\\\data\\\\events\\\\'+str(game_id)+'.json'),'r',encoding=\"utf8\") as file:\n",
    "            json_lineup = json.load(file)[:2]\n",
    "        team_lineup = [a for a in json_lineup if a['team']['id']==tid]\n",
    "        lineup_indexes = [a['player']['id'] for a in team_lineup[0]['tactics']['lineup']]\n",
    "        vaeps.append(team_vaeps[team_vaeps['player_id'].isin(lineup_indexes)]['vaep'].sum())\n",
    "    mean_vaep = np.array(vaeps).mean()\n",
    "    team_mean_vaeps[tid]=mean_vaep"
   ]
  },
  {
   "cell_type": "markdown",
   "id": "0f1ad335-01d8-4349-9acc-956b2b9d23ba",
   "metadata": {},
   "source": [
    "## Generate Combinations of Possible Lineups (Section 6.2)\n",
    "\n",
    "This includes reserves. We have a reserve slot where a player from the club would replace a first team player if noone is available to play in a certain position. Their skill rating is equivalent to the minimum skill rating in the data. These combinations and their rewards for the team in each game is precomputed to be used in the MDP model."
   ]
  },
  {
   "cell_type": "code",
   "execution_count": null,
   "id": "8951330d-3b25-4720-9940-b98da489e1d0",
   "metadata": {},
   "outputs": [],
   "source": [
    "def get_team_reward_df(team_id):\n",
    "    #Team Games DF\n",
    "    team_games = games[((games['home_team_id']==team_id) | (games['away_team_id']==team_id)) & (games['season_id']==4)][['game_id','game_date','home_team_id','away_team_id','home_score','away_score']].reset_index(drop=True)\n",
    "    team_games['home_team'] = [teams[teams['team_id']==t]['team_name'].values[0] for t in team_games['home_team_id']]\n",
    "    team_games['away_team'] = [teams[teams['team_id']==t]['team_name'].values[0] for t in team_games['away_team_id']]\n",
    "    team_games['is_home']=True\n",
    "    team_games = team_games.rename(columns={'home_team':'team_id','away_team':'team_id_vs'})\n",
    "    team_games = team_games.sort_values('game_date',ascending=True).reset_index(drop=True)\n",
    "    \n",
    "    #Opponent DF\n",
    "    #opponent_dictionary = dict()\n",
    "    #for i,team_game in team_games.iterrows():\n",
    "    #    is_home = team_game['home_team_id']==team_id\n",
    "    #    if is_home:\n",
    "    #        opponent_id = team_game['away_team_id']\n",
    "    #    else:\n",
    "    #        opponent_id = team_game['home_team_id']\n",
    "    #    opponent = pd.read_csv('optimal_team_data/'+str(opponent_id)+'.csv')['vaep'].sum()\n",
    "    #    opponent_dictionary[str(opponent_id)] = opponent\n",
    "    \n",
    "    all_predictions_rows = []\n",
    "    for i,row in tqdm.tqdm(team_games.iterrows(),total=len(team_games)):\n",
    "        if row['home_team_id'] == team_id:\n",
    "            is_home=True\n",
    "        else:\n",
    "            is_home=False\n",
    "        game_specific = pd.concat([pd.DataFrame([row],columns=team_games.columns)]*len(list_of_values), ignore_index=True)\n",
    "        if is_home:\n",
    "            game_specific['team_vaep'] = list_of_values\n",
    "            game_specific['team_vaep_vs'] = team_mean_vaeps[row['away_team_id']]\n",
    "        else:\n",
    "            game_specific['team_vaep'] = team_mean_vaeps[row['home_team_id']]\n",
    "            game_specific['team_vaep_vs'] = list_of_values\n",
    "        game_specific['game_id'] = range(len(list_of_values))\n",
    "        game_specific_predictions = Poisson.get_predictions(game_specific)\n",
    "        game_specific_predictions['result'] = np.where(game_specific_predictions['goals_a'] > game_specific_predictions['goals_b'], 'HW', np.where(game_specific_predictions['goals_a'] < game_specific_predictions['goals_b'], 'AW', 'DR'))\n",
    "        game_specific_predictions = game_specific_predictions.groupby(['game_id','result']).sum()['p'].reset_index()\n",
    "        game_specific_predictions['xph'] = np.where(game_specific_predictions['result'] == 'HW', game_specific_predictions['p'] * 3, np.where(game_specific_predictions['result'] == 'AW', 0, game_specific_predictions['p']))\n",
    "        game_specific_predictions['xpa'] = np.where(game_specific_predictions['result'] == 'AW', game_specific_predictions['p'] * 3, np.where(game_specific_predictions['result'] == 'HW', 0, game_specific_predictions['p']))\n",
    "        game_specific_predictions = game_specific_predictions.groupby('game_id').sum()\n",
    "        if is_home:\n",
    "            xp = game_specific_predictions['xph'].values\n",
    "        else:\n",
    "            xp = game_specific_predictions['xpa'].values\n",
    "        new_prediction_row = pd.DataFrame([row],columns=team_games.columns).reset_index(drop=True)\n",
    "        final_preds_row = pd.concat([new_prediction_row,pd.DataFrame([xp],columns=tupled_teams)],axis=1).drop(['home_score','away_score','is_home'],axis=1)\n",
    "        all_predictions_rows.append(final_preds_row)\n",
    "    final_prediction_dataframe = pd.concat(all_predictions_rows,ignore_index=True)\n",
    "    return final_prediction_dataframe"
   ]
  },
  {
   "cell_type": "code",
   "execution_count": null,
   "id": "5bf590f0-b5a9-4a6e-bbd2-495dd5880404",
   "metadata": {},
   "outputs": [],
   "source": [
    "cb_subset_size = 2\n",
    "cm_subset_size = 3\n",
    "cb_indexes=[1,2,3,4,20,20]\n",
    "rb_indexes=[5,6,20]\n",
    "lb_indexes=[7,8,20]\n",
    "cm_indexes=[9,10,11,12,13,20,20,20]\n",
    "rw_indexes=[14,15,20]\n",
    "lw_indexes=[16,17,20]\n",
    "st_indexes=[18,19,20]\n",
    "cb_combos = list(combinations(cb_indexes, cb_subset_size))\n",
    "rb_combos = list(combinations(rb_indexes,1))\n",
    "lb_combos = list(combinations(lb_indexes,1))\n",
    "cm_combos = list(combinations(cm_indexes,cm_subset_size))\n",
    "rw_combos = list(combinations(rw_indexes,1))\n",
    "lw_combos = list(combinations(lw_indexes,1))\n",
    "st_combos = list(combinations(st_indexes,1))"
   ]
  },
  {
   "cell_type": "code",
   "execution_count": null,
   "id": "c7a4faa1-99b9-4042-bffb-8d4f4734b5e6",
   "metadata": {},
   "outputs": [],
   "source": [
    "#Set different combos to vary the formation here depending on team.\n",
    "combinations_list = list(product(cb_combos, rb_combos, lb_combos, cm_combos,rw_combos,lw_combos,st_combos))\n",
    "combinations_list = list( dict.fromkeys(combinations_list) )\n",
    "len(combinations_list)"
   ]
  },
  {
   "cell_type": "code",
   "execution_count": null,
   "id": "0b173e2c-abd2-4c43-b68f-697e581a575c",
   "metadata": {},
   "outputs": [],
   "source": [
    "for team_id in [24]:\n",
    "    print(team_id)\n",
    "    team_squad = pd.read_csv('data/18-19_Squad/'+str(team_id)+'.csv')\n",
    "    combinations_list = list(product(cb_combos, rb_combos, lb_combos, cm_combos,rw_combos,lw_combos,st_combos))\n",
    "    combinations_list = list( dict.fromkeys(combinations_list) )\n",
    "    list_of_teams = [[0]+[value for inner_tuple in outer_tuple for value in inner_tuple] for outer_tuple in combinations_list]\n",
    "    list_of_values = [team_squad.loc[l]['vaep'].sum() for l in list_of_teams]\n",
    "    tupled_teams = [str(tuple(l)) for l in list_of_teams]\n",
    "    team_reward_df = get_team_reward_df(team_id)\n",
    "    #team_reward_df.to_csv('Team_reward_DF/'+str(team_id)+'.csv',index=False)\n",
    "    #except:\n",
    "    #    continue"
   ]
  },
  {
   "cell_type": "code",
   "execution_count": null,
   "id": "3726ee6a-c93c-40fb-8125-bcd6e3103b22",
   "metadata": {},
   "outputs": [],
   "source": [
    "team_reward_df.to_csv('data/Team_rewards_DF/'+str(team_id)+'.csv',index=False)"
   ]
  }
 ],
 "metadata": {
  "kernelspec": {
   "display_name": "Python 3 (ipykernel)",
   "language": "python",
   "name": "python3"
  },
  "language_info": {
   "codemirror_mode": {
    "name": "ipython",
    "version": 3
   },
   "file_extension": ".py",
   "mimetype": "text/x-python",
   "name": "python",
   "nbconvert_exporter": "python",
   "pygments_lexer": "ipython3",
   "version": "3.8.15"
  }
 },
 "nbformat": 4,
 "nbformat_minor": 5
}
