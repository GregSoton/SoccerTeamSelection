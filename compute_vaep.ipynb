{
 "cells": [
  {
   "cell_type": "markdown",
   "id": "b0639866-edb6-4641-ad5d-f5adddaa8f22",
   "metadata": {},
   "source": [
    "# Compute VAEP Features for Players (Section 5.3)\n",
    "Uses code from the socceraction library: https://socceraction.readthedocs.io/en/latest/"
   ]
  },
  {
   "cell_type": "code",
   "execution_count": null,
   "id": "ee138185-4135-47ed-b924-0b82a904139d",
   "metadata": {},
   "outputs": [],
   "source": [
    "import socceraction.spadl as spadl\n",
    "import socceraction.vaep.features as fs\n",
    "import socceraction.vaep.labels as lab\n",
    "import socceraction.vaep.formula as vaepformula\n",
    "import pandas as pd\n",
    "import numpy as np\n",
    "import xgboost\n",
    "from sklearn.metrics import brier_score_loss, roc_auc_score, log_loss"
   ]
  },
  {
   "cell_type": "code",
   "execution_count": null,
   "id": "27e05764-b95e-432e-92a4-10e43619dd7d",
   "metadata": {},
   "outputs": [],
   "source": [
    "games = pd.read_csv('overview_data/games_data.csv')\n",
    "teams = pd.read_csv('overview_data/teams.csv')\n",
    "players_df = pd.read_csv('overview_data/all_players.csv')\n",
    "games['game_date'] = pd.to_datetime(games['game_date'])\n",
    "games_with_team_names = pd.merge(games.rename(columns={'home_team_id':'team_id'}),teams,how='left',on='team_id')\n",
    "games_with_team_names = games_with_team_names.rename(columns={'team_id':'home_team_id','team_name':'home_team_name'})\n",
    "games_with_team_names = pd.merge(games_with_team_names.rename(columns={'away_team_id':'team_id'}),teams,how='left',on='team_id')\n",
    "games_with_team_names = games_with_team_names.rename(columns={'team_id':'away_team_id','team_name':'away_team_name'})"
   ]
  },
  {
   "cell_type": "markdown",
   "id": "88bfb23c-6d07-4b46-9b85-ede37e09d967",
   "metadata": {},
   "source": [
    "## Setup the VAEP model to get VAEP of players"
   ]
  },
  {
   "cell_type": "code",
   "execution_count": null,
   "id": "8e48986d-555d-4f77-8bc0-0ab3045c42fe",
   "metadata": {},
   "outputs": [],
   "source": [
    "xfns = [\n",
    "    fs.actiontype,\n",
    "    fs.actiontype_onehot,\n",
    "    fs.bodypart,\n",
    "    fs.bodypart_onehot,\n",
    "    fs.result,\n",
    "    fs.result_onehot,\n",
    "    fs.goalscore,\n",
    "    fs.startlocation,\n",
    "    fs.endlocation,\n",
    "    fs.movement,\n",
    "    fs.space_delta,\n",
    "    fs.startpolar,\n",
    "    fs.endpolar,\n",
    "    fs.team,\n",
    "    fs.time,\n",
    "    fs.time_delta\n",
    "]\n",
    "\n",
    "for i,game in games_with_team_names.iterrows():\n",
    "    events = pd.read_csv('game_data/'+str(game.game_id)+'/'+str(game.game_id)+'_events.csv')\n",
    "    gamestates = fs.gamestates(spadl.add_names(events.drop(['player_name','is_starter','starting_position_id','starting_position_name','minutes_played','team_name'],axis=1)), 3)\n",
    "    gamestates = fs.play_left_to_right(gamestates, game.home_team_id)\n",
    "    X = pd.concat([fn(gamestates) for fn in xfns], axis=1)\n",
    "    #X.to_csv('game_data/'+str(game.game_id)+'/'+str(game.game_id)+'vaepX.csv', index=False)"
   ]
  },
  {
   "cell_type": "code",
   "execution_count": null,
   "id": "89aecac5-7635-4dbf-a3a1-96d898d774c7",
   "metadata": {},
   "outputs": [],
   "source": [
    "yfns = [lab.scores, lab.concedes, lab.goal_from_shot]\n",
    "\n",
    "for i,game in games_with_team_names.iterrows():\n",
    "    events = pd.read_csv('game_data/'+str(game.game_id)+'/'+str(game.game_id)+'_events.csv')\n",
    "    Y = pd.concat([fn(spadl.add_names(events.drop(['player_name','is_starter','starting_position_id','starting_position_name','minutes_played','team_name'],axis=1))) for fn in yfns], axis=1)\n",
    "    #Y.to_csv('game_data/'+str(game.game_id)+'/'+str(game.game_id)+'vaepY.csv', index=False)"
   ]
  },
  {
   "cell_type": "code",
   "execution_count": null,
   "id": "b9029851-482d-4c8d-af57-96cb5743a3df",
   "metadata": {},
   "outputs": [],
   "source": [
    "nb_prev_actions = 1\n",
    "Xcols = fs.feature_column_names(xfns, nb_prev_actions)\n",
    "\n",
    "def getXY(games,Xcols):\n",
    "    # generate the columns of the selected feature\n",
    "    X = []\n",
    "    for i,game in games_with_team_names.iterrows():\n",
    "        Xi = pd.read_csv('game_data/'+str(game.game_id)+'/'+str(game.game_id)+'vaepX.csv')\n",
    "        X.append(Xi[Xcols])\n",
    "    X = pd.concat(X).reset_index(drop=True)\n",
    "\n",
    "    # 2. Select label Y\n",
    "    Ycols = [\"scores\",\"concedes\"]\n",
    "    Y = []\n",
    "    for i,game in games_with_team_names.iterrows():\n",
    "        Yi = pd.read_csv('game_data/'+str(game.game_id)+'/'+str(game.game_id)+'vaepY.csv')\n",
    "        Y.append(Yi[Ycols])\n",
    "    Y = pd.concat(Y).reset_index(drop=True)\n",
    "    return X, Y\n",
    "\n",
    "X, Y = getXY(games_with_team_names,Xcols)\n",
    "print(\"X:\", list(X.columns))\n",
    "print(\"Y:\", list(Y.columns))"
   ]
  },
  {
   "cell_type": "code",
   "execution_count": null,
   "id": "cba55d27-fd68-45f4-ba64-d7db88a56f8f",
   "metadata": {},
   "outputs": [],
   "source": [
    "Y_hat = pd.DataFrame()\n",
    "models = {}\n",
    "for col in list(Y.columns):\n",
    "    model = xgboost.XGBClassifier(n_estimators=50, max_depth=3, n_jobs=-3, verbosity=1)\n",
    "    model.fit(X, Y[col])\n",
    "    models[col] = model"
   ]
  },
  {
   "cell_type": "code",
   "execution_count": null,
   "id": "9c85f5e4-c266-4391-a0e3-1fe0a8ab6800",
   "metadata": {},
   "outputs": [],
   "source": [
    "testX, testY = X, Y\n",
    "\n",
    "def evaluate(y, y_hat):\n",
    "    p = sum(y) / len(y)\n",
    "    base = [p] * len(y)\n",
    "    brier = brier_score_loss(y, y_hat)\n",
    "    print(f\"  Brier score: %.5f (%.5f)\" % (brier, brier / brier_score_loss(y, base)))\n",
    "    ll = log_loss(y, y_hat)\n",
    "    print(f\"  log loss score: %.5f (%.5f)\" % (ll, ll / log_loss(y, base)))\n",
    "    print(f\"  ROC AUC: %.5f\" % roc_auc_score(y, y_hat))\n",
    "\n",
    "for col in testY.columns:\n",
    "    Y_hat[col] = [p[1] for p in models[col].predict_proba(testX)]\n",
    "    print(f\"### Y: {col} ###\")\n",
    "    evaluate(testY[col], Y_hat[col])"
   ]
  },
  {
   "cell_type": "code",
   "execution_count": null,
   "id": "ecadd66a-7f16-4b48-aa42-c6e62ba5f91a",
   "metadata": {},
   "outputs": [],
   "source": [
    "A = []\n",
    "for i,game in games_with_team_names.iterrows():\n",
    "    Ai = pd.read_csv('game_data/'+str(game.game_id)+'/'+str(game.game_id)+'_events.csv')\n",
    "    A.append(Ai[[\"game_id\"]])\n",
    "A = pd.concat(A)\n",
    "A = A.reset_index(drop=True)\n",
    "\n",
    "# concatenate action game id rows with predictions and save per game\n",
    "grouped_predictions = pd.concat([A, Y_hat], axis=1).groupby(\"game_id\")\n",
    "for k, df in tqdm.tqdm(grouped_predictions, desc=\"Saving predictions per game\"):\n",
    "    df = df.reset_index(drop=True)\n",
    "    gid = df.game_id.loc[0]\n",
    "    #df[Y_hat.columns].to_csv('game_data/'+str(gid)+'/'+str(gid)+'vaep_preds.csv',index=False)"
   ]
  },
  {
   "cell_type": "code",
   "execution_count": null,
   "id": "86734e4a-2d6a-4ec8-b8e7-7939de21d54f",
   "metadata": {},
   "outputs": [],
   "source": [
    "A = []\n",
    "for i,game in games_with_team_names.iterrows():\n",
    "    actions = pd.read_csv('game_data/'+str(game.game_id)+'/'+str(game.game_id)+'_events.csv')\n",
    "    preds = pd.read_csv('game_data/'+str(game.game_id)+'/'+str(game.game_id)+'vaep_preds.csv')\n",
    "    actions['result_name'] = np.where(actions['result_id'] == 0, 'fail', 'success')\n",
    "    values = vaepformula.value(actions, preds.scores, preds.concedes)\n",
    "    A.append(pd.concat([actions, preds, values], axis=1))\n",
    "A = pd.concat(A).sort_values([\"game_id\", \"period_id\", \"time_seconds\"]).reset_index(drop=True)\n",
    "A.columns"
   ]
  },
  {
   "cell_type": "markdown",
   "id": "4ff654ac-dd89-4bc6-b4a3-c39db2c147da",
   "metadata": {},
   "source": [
    "## Computes and stores VAEP values for each player in a real-world game"
   ]
  },
  {
   "cell_type": "code",
   "execution_count": null,
   "id": "6bfd7f83-d080-415e-9dc7-666b378e7d40",
   "metadata": {},
   "outputs": [],
   "source": [
    "A[\"count\"] = 1\n",
    "\n",
    "for i, game in games_with_team_names.iterrows():\n",
    "    lineup = pd.read_csv('game_data/'+str(game.game_id)+'/'+str(game.game_id)+'_lineup.csv')\n",
    "    # Compute each player's number of actions and total VAEP values\n",
    "    playersR = (\n",
    "        A[A['game_id']==game.game_id][[\"player_id\", \"vaep_value\", \"offensive_value\", \"defensive_value\", \"count\"]]\n",
    "        .groupby([\"player_id\"])\n",
    "        .sum()\n",
    "        .reset_index()\n",
    "    )\n",
    "    # Add player names\n",
    "    playersR = playersR.merge(players_df[[\"player_id\", \"player_name\"]], how=\"left\")\n",
    "    # Show results\n",
    "    playersR = playersR[[\"player_id\", \"player_name\", \"vaep_value\", \"offensive_value\", \"defensive_value\"]]\n",
    "    lineup = lineup.merge(playersR, how='left')\n",
    "    lineup['vaep_pmin'] = lineup['vaep_value'] / lineup['minutes_played']\n",
    "    lineup['off_vaep_pmin'] = lineup['offensive_value'] / lineup['minutes_played']\n",
    "    lineup['def_vaep_pmin'] = lineup['defensive_value'] / lineup['minutes_played']\n",
    "    lineup.to_csv('game_data/'+str(game.game_id)+'/'+str(game.game_id)+'_lineup_vaep.csv')"
   ]
  }
 ],
 "metadata": {
  "kernelspec": {
   "display_name": "Python 3 (ipykernel)",
   "language": "python",
   "name": "python3"
  },
  "language_info": {
   "codemirror_mode": {
    "name": "ipython",
    "version": 3
   },
   "file_extension": ".py",
   "mimetype": "text/x-python",
   "name": "python",
   "nbconvert_exporter": "python",
   "pygments_lexer": "ipython3",
   "version": "3.8.15"
  }
 },
 "nbformat": 4,
 "nbformat_minor": 5
}
